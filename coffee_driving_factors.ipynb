{
 "cells": [
  {
   "cell_type": "markdown",
   "metadata": {},
   "source": [
    "# Analyzing coffee brewing process\n",
    "The goal of this project is to find out which factors affect the coffee quality the most.\n",
    "To that end we wil first build the classifier (with five different classes corresponding to each rating) aiming to predict rating from 1 to 5 based on features data in our dataset.\n",
    "Then we will find out which features affects the quality of our predictions the most - these will be the factors that affects\n",
    "the coffee quality mark the most."
   ]
  },
  {
   "cell_type": "markdown",
   "metadata": {},
   "source": [
    "Dataset :\n",
    "coffee_data.csv contains data gathered from cupping sessions which contains such parameters as: \n",
    "- brewing time,\n",
    "- brewing temperature,\n",
    "- grinding level,\n",
    "- TDS,\n",
    "- water pH,\n",
    "- processing method,\n",
    "- region and plantation height.\n",
    "\n",
    "Each coffee was rated from 1-5."
   ]
  },
  {
   "cell_type": "markdown",
   "metadata": {},
   "source": [
    "Getting the tools :"
   ]
  },
  {
   "cell_type": "code",
   "execution_count": 5,
   "metadata": {
    "colab": {
     "base_uri": "https://localhost:8080/",
     "height": 74,
     "resources": {
      "http://localhost:8080/nbextensions/google.colab/files.js": {
       "data": "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",
       "headers": [
        [
         "content-type",
         "application/javascript"
        ]
       ],
       "ok": true,
       "status": 200,
       "status_text": ""
      }
     }
    },
    "colab_type": "code",
    "id": "mjFENiMGChKD",
    "outputId": "f27d71d6-8a37-424e-b7c8-bd4cc013a241"
   },
   "outputs": [],
   "source": [
    "import numpy as np\n",
    "import pandas as pd\n",
    "import matplotlib.pyplot as plt\n",
    "import seaborn as sns\n",
    "from scipy.stats import spearmanr\n",
    "from sklearn.neighbors import KNeighborsClassifier\n",
    "from sklearn.model_selection import train_test_split\n",
    "import seaborn as sns\n",
    "from sklearn.ensemble import RandomForestClassifier\n",
    "from random import randrange\n",
    "from sklearn.linear_model import LogisticRegression\n",
    "from sklearn.metrics import accuracy_score\n",
    "from plot_hyperparameters_effects import *\n",
    "np.random.seed(0)\n",
    "\n",
    "\n",
    "coffee=pd.read_csv(r'coffee_data.csv')"
   ]
  },
  {
   "cell_type": "markdown",
   "metadata": {
    "colab_type": "text",
    "id": "c1fn5z-7ChKL"
   },
   "source": [
    "# inspecting the df"
   ]
  },
  {
   "cell_type": "code",
   "execution_count": 6,
   "metadata": {
    "colab": {
     "base_uri": "https://localhost:8080/",
     "height": 191
    },
    "colab_type": "code",
    "id": "14DbqoWeChKN",
    "outputId": "7366d1f8-bb06-4a54-c0bd-dea56672b76a"
   },
   "outputs": [
    {
     "data": {
      "text/html": [
       "<div>\n",
       "<style scoped>\n",
       "    .dataframe tbody tr th:only-of-type {\n",
       "        vertical-align: middle;\n",
       "    }\n",
       "\n",
       "    .dataframe tbody tr th {\n",
       "        vertical-align: top;\n",
       "    }\n",
       "\n",
       "    .dataframe thead th {\n",
       "        text-align: right;\n",
       "    }\n",
       "</style>\n",
       "<table border=\"1\" class=\"dataframe\">\n",
       "  <thead>\n",
       "    <tr style=\"text-align: right;\">\n",
       "      <th></th>\n",
       "      <th>region</th>\n",
       "      <th>brewing_temp</th>\n",
       "      <th>coffee_amount</th>\n",
       "      <th>preinfusion</th>\n",
       "      <th>grinding_level</th>\n",
       "      <th>TDS</th>\n",
       "      <th>water_ph</th>\n",
       "      <th>plantation_height</th>\n",
       "      <th>processing_method</th>\n",
       "      <th>brewing_time</th>\n",
       "      <th>mark</th>\n",
       "    </tr>\n",
       "  </thead>\n",
       "  <tbody>\n",
       "    <tr>\n",
       "      <th>0</th>\n",
       "      <td>Panama</td>\n",
       "      <td>91.1</td>\n",
       "      <td>NaN</td>\n",
       "      <td>0.0</td>\n",
       "      <td>7.0</td>\n",
       "      <td>NaN</td>\n",
       "      <td>6.67</td>\n",
       "      <td>1710.0</td>\n",
       "      <td>Honey</td>\n",
       "      <td>189.0</td>\n",
       "      <td>3</td>\n",
       "    </tr>\n",
       "    <tr>\n",
       "      <th>1</th>\n",
       "      <td>Panama</td>\n",
       "      <td>94.0</td>\n",
       "      <td>5.9</td>\n",
       "      <td>NaN</td>\n",
       "      <td>2.0</td>\n",
       "      <td>0.14</td>\n",
       "      <td>3.00</td>\n",
       "      <td>1530.0</td>\n",
       "      <td>Honey</td>\n",
       "      <td>95.0</td>\n",
       "      <td>3</td>\n",
       "    </tr>\n",
       "    <tr>\n",
       "      <th>2</th>\n",
       "      <td>Colombia</td>\n",
       "      <td>91.6</td>\n",
       "      <td>7.0</td>\n",
       "      <td>0.0</td>\n",
       "      <td>4.0</td>\n",
       "      <td>0.13</td>\n",
       "      <td>5.51</td>\n",
       "      <td>1370.0</td>\n",
       "      <td>Honey</td>\n",
       "      <td>147.0</td>\n",
       "      <td>3</td>\n",
       "    </tr>\n",
       "    <tr>\n",
       "      <th>3</th>\n",
       "      <td>Rwanda</td>\n",
       "      <td>92.3</td>\n",
       "      <td>NaN</td>\n",
       "      <td>0.0</td>\n",
       "      <td>4.0</td>\n",
       "      <td>0.13</td>\n",
       "      <td>7.11</td>\n",
       "      <td>1630.0</td>\n",
       "      <td>Honey</td>\n",
       "      <td>158.0</td>\n",
       "      <td>3</td>\n",
       "    </tr>\n",
       "    <tr>\n",
       "      <th>4</th>\n",
       "      <td>Panama</td>\n",
       "      <td>98.9</td>\n",
       "      <td>9.5</td>\n",
       "      <td>NaN</td>\n",
       "      <td>3.0</td>\n",
       "      <td>0.11</td>\n",
       "      <td>6.06</td>\n",
       "      <td>1400.0</td>\n",
       "      <td>Washed</td>\n",
       "      <td>178.0</td>\n",
       "      <td>3</td>\n",
       "    </tr>\n",
       "  </tbody>\n",
       "</table>\n",
       "</div>"
      ],
      "text/plain": [
       "     region  brewing_temp  coffee_amount  preinfusion  grinding_level   TDS  \\\n",
       "0    Panama          91.1            NaN          0.0             7.0   NaN   \n",
       "1    Panama          94.0            5.9          NaN             2.0  0.14   \n",
       "2  Colombia          91.6            7.0          0.0             4.0  0.13   \n",
       "3    Rwanda          92.3            NaN          0.0             4.0  0.13   \n",
       "4    Panama          98.9            9.5          NaN             3.0  0.11   \n",
       "\n",
       "   water_ph  plantation_height processing_method  brewing_time  mark  \n",
       "0      6.67             1710.0             Honey         189.0     3  \n",
       "1      3.00             1530.0             Honey          95.0     3  \n",
       "2      5.51             1370.0             Honey         147.0     3  \n",
       "3      7.11             1630.0             Honey         158.0     3  \n",
       "4      6.06             1400.0            Washed         178.0     3  "
      ]
     },
     "execution_count": 6,
     "metadata": {},
     "output_type": "execute_result"
    }
   ],
   "source": [
    "coffee.head()"
   ]
  },
  {
   "cell_type": "code",
   "execution_count": 7,
   "metadata": {
    "colab": {
     "base_uri": "https://localhost:8080/",
     "height": 277
    },
    "colab_type": "code",
    "id": "O0fWg0nUChKY",
    "outputId": "f7a56946-2497-4967-9a3b-43bc38435c53"
   },
   "outputs": [
    {
     "name": "stdout",
     "output_type": "stream",
     "text": [
      "<class 'pandas.core.frame.DataFrame'>\n",
      "RangeIndex: 500 entries, 0 to 499\n",
      "Data columns (total 11 columns):\n",
      "region               500 non-null object\n",
      "brewing_temp         500 non-null float64\n",
      "coffee_amount        434 non-null float64\n",
      "preinfusion          436 non-null float64\n",
      "grinding_level       500 non-null float64\n",
      "TDS                  401 non-null float64\n",
      "water_ph             500 non-null float64\n",
      "plantation_height    500 non-null float64\n",
      "processing_method    500 non-null object\n",
      "brewing_time         500 non-null float64\n",
      "mark                 500 non-null int64\n",
      "dtypes: float64(8), int64(1), object(2)\n",
      "memory usage: 39.1+ KB\n"
     ]
    }
   ],
   "source": [
    "coffee.info()"
   ]
  },
  {
   "cell_type": "markdown",
   "metadata": {
    "colab_type": "text",
    "id": "hpcYatuGChKf"
   },
   "source": [
    "# imputing missing values"
   ]
  },
  {
   "cell_type": "code",
   "execution_count": 8,
   "metadata": {
    "colab": {
     "base_uri": "https://localhost:8080/",
     "height": 230
    },
    "colab_type": "code",
    "id": "dYKTkD9tChKg",
    "outputId": "417f20a4-eeb4-455b-f4d6-cc7d1c95c71e"
   },
   "outputs": [
    {
     "data": {
      "text/plain": [
       "region                0\n",
       "brewing_temp          0\n",
       "coffee_amount        66\n",
       "preinfusion          64\n",
       "grinding_level        0\n",
       "TDS                  99\n",
       "water_ph              0\n",
       "plantation_height     0\n",
       "processing_method     0\n",
       "brewing_time          0\n",
       "mark                  0\n",
       "dtype: int64"
      ]
     },
     "execution_count": 8,
     "metadata": {},
     "output_type": "execute_result"
    }
   ],
   "source": [
    "coffee.isnull().sum()"
   ]
  },
  {
   "cell_type": "code",
   "execution_count": 9,
   "metadata": {
    "colab": {
     "base_uri": "https://localhost:8080/",
     "height": 163
    },
    "colab_type": "code",
    "id": "hzD0nNcjChKn",
    "outputId": "2a70e136-55e1-4596-8b9a-70edbde326b4"
   },
   "outputs": [
    {
     "data": {
      "text/plain": [
       "count    401.000000\n",
       "mean       0.119152\n",
       "std        0.022700\n",
       "min        0.050000\n",
       "25%        0.100000\n",
       "50%        0.120000\n",
       "75%        0.130000\n",
       "max        0.200000\n",
       "Name: TDS, dtype: float64"
      ]
     },
     "execution_count": 9,
     "metadata": {},
     "output_type": "execute_result"
    }
   ],
   "source": [
    "coffee.TDS.describe()"
   ]
  },
  {
   "cell_type": "code",
   "execution_count": 10,
   "metadata": {
    "colab": {},
    "colab_type": "code",
    "id": "gYzor_YHChKt"
   },
   "outputs": [],
   "source": [
    "impute_tds=coffee['TDS'].median()\n",
    "coffee['TDS']=coffee['TDS'].fillna(impute_tds)"
   ]
  },
  {
   "cell_type": "code",
   "execution_count": 11,
   "metadata": {
    "colab": {
     "base_uri": "https://localhost:8080/",
     "height": 163
    },
    "colab_type": "code",
    "id": "cesfbeNUChKy",
    "outputId": "168abe78-9e36-4ca2-bc4d-d8c31a744dae",
    "scrolled": true
   },
   "outputs": [
    {
     "data": {
      "text/plain": [
       "count    434.000000\n",
       "mean       6.988710\n",
       "std        1.068264\n",
       "min        3.000000\n",
       "25%        6.200000\n",
       "50%        6.900000\n",
       "75%        7.800000\n",
       "max       10.000000\n",
       "Name: coffee_amount, dtype: float64"
      ]
     },
     "execution_count": 11,
     "metadata": {},
     "output_type": "execute_result"
    }
   ],
   "source": [
    "coffee.coffee_amount.describe()"
   ]
  },
  {
   "cell_type": "code",
   "execution_count": 12,
   "metadata": {
    "colab": {},
    "colab_type": "code",
    "id": "1seg4yYpChK4"
   },
   "outputs": [],
   "source": [
    "impute_amount=coffee.coffee_amount.median()\n",
    "coffee['coffee_amount']=coffee['coffee_amount'].fillna(impute_amount)"
   ]
  },
  {
   "cell_type": "code",
   "execution_count": 13,
   "metadata": {
    "colab": {
     "base_uri": "https://localhost:8080/",
     "height": 163
    },
    "colab_type": "code",
    "id": "JiBCim6uChK9",
    "outputId": "4f0a3136-816a-4788-cca2-89cd03b79b08"
   },
   "outputs": [
    {
     "data": {
      "text/plain": [
       "count    436.000000\n",
       "mean       0.607798\n",
       "std        0.488802\n",
       "min        0.000000\n",
       "25%        0.000000\n",
       "50%        1.000000\n",
       "75%        1.000000\n",
       "max        1.000000\n",
       "Name: preinfusion, dtype: float64"
      ]
     },
     "execution_count": 13,
     "metadata": {},
     "output_type": "execute_result"
    }
   ],
   "source": [
    "coffee.preinfusion.describe()"
   ]
  },
  {
   "cell_type": "code",
   "execution_count": 14,
   "metadata": {
    "colab": {
     "base_uri": "https://localhost:8080/",
     "height": 301
    },
    "colab_type": "code",
    "id": "m8QgvXjBChLD",
    "outputId": "44444634-7136-44df-e928-7c9e824a99ca"
   },
   "outputs": [
    {
     "data": {
      "image/png": "[encoded data removed]",
      "text/plain": [
       "<matplotlib.figure.Figure at 0xaa6dca6c>"
      ]
     },
     "metadata": {},
     "output_type": "display_data"
    }
   ],
   "source": [
    "coffee.preinfusion.value_counts().plot(kind='bar')\n",
    "plt.ylabel('Count')\n",
    "plt.xlabel('Preinfusion level')\n",
    "plt.title('Coffee preinfusion level')\n",
    "plt.show()"
   ]
  },
  {
   "cell_type": "code",
   "execution_count": 15,
   "metadata": {
    "colab": {},
    "colab_type": "code",
    "id": "1YyT8OQ4ChLP"
   },
   "outputs": [],
   "source": [
    "coffee['preinfusion']=coffee['preinfusion'].apply(lambda x:'unknown' if ((x!=0) & (x!=1)) else x)"
   ]
  },
  {
   "cell_type": "code",
   "execution_count": 16,
   "metadata": {
    "colab": {
     "base_uri": "https://localhost:8080/",
     "height": 212
    },
    "colab_type": "code",
    "id": "Yc93Vw0CChLU",
    "outputId": "6e526c10-5919-4cd0-c790-884881532e12"
   },
   "outputs": [
    {
     "data": {
      "text/plain": [
       "region               0\n",
       "brewing_temp         0\n",
       "coffee_amount        0\n",
       "preinfusion          0\n",
       "grinding_level       0\n",
       "TDS                  0\n",
       "water_ph             0\n",
       "plantation_height    0\n",
       "processing_method    0\n",
       "brewing_time         0\n",
       "mark                 0\n",
       "dtype: int64"
      ]
     },
     "execution_count": 16,
     "metadata": {},
     "output_type": "execute_result"
    }
   ],
   "source": [
    "coffee.isnull().sum()"
   ]
  },
  {
   "cell_type": "markdown",
   "metadata": {
    "colab_type": "text",
    "id": "2FA4uTQrChLa"
   },
   "source": [
    "# Looking at the distribution of labels"
   ]
  },
  {
   "cell_type": "code",
   "execution_count": 17,
   "metadata": {
    "colab": {
     "base_uri": "https://localhost:8080/",
     "height": 119
    },
    "colab_type": "code",
    "id": "AsFhkYwOno8S",
    "outputId": "a6ac362b-9726-4781-86e8-b4a24e779f02"
   },
   "outputs": [
    {
     "data": {
      "text/plain": [
       "3    149\n",
       "5    100\n",
       "4    100\n",
       "2     99\n",
       "1     52\n",
       "Name: mark, dtype: int64"
      ]
     },
     "execution_count": 17,
     "metadata": {},
     "output_type": "execute_result"
    }
   ],
   "source": [
    "coffee.mark.value_counts()"
   ]
  },
  {
   "cell_type": "code",
   "execution_count": 18,
   "metadata": {
    "colab": {
     "base_uri": "https://localhost:8080/",
     "height": 292
    },
    "colab_type": "code",
    "id": "DQ6AdhKNChLc",
    "outputId": "537084a2-feb6-46c1-acce-fd633a3322b1"
   },
   "outputs": [
    {
     "data": {
      "image/png": "[encoded data removed]",
      "text/plain": [
       "<matplotlib.figure.Figure at 0xaa809f6c>"
      ]
     },
     "metadata": {},
     "output_type": "display_data"
    }
   ],
   "source": [
    "coffee.mark.value_counts().plot(kind='bar')\n",
    "plt.title('Distribution of coffee mark')\n",
    "plt.xlabel('Mark')\n",
    "plt.ylabel('Count')\n",
    "plt.show()"
   ]
  },
  {
   "cell_type": "markdown",
   "metadata": {
    "colab_type": "text",
    "id": "upI8uFvqChLj"
   },
   "source": [
    "The dataset is relatively well balanced."
   ]
  },
  {
   "cell_type": "markdown",
   "metadata": {
    "colab_type": "text",
    "id": "LgdXzS5YChLk"
   },
   "source": [
    "# Examining features data"
   ]
  },
  {
   "cell_type": "code",
   "execution_count": 19,
   "metadata": {
    "colab": {
     "base_uri": "https://localhost:8080/",
     "height": 82
    },
    "colab_type": "code",
    "id": "uZRAUtL_ChLm",
    "outputId": "fda15c0e-cb0e-4e87-85e6-43dba41274ff"
   },
   "outputs": [
    {
     "data": {
      "text/plain": [
       "Index(['region', 'brewing_temp', 'coffee_amount', 'preinfusion',\n",
       "       'grinding_level', 'TDS', 'water_ph', 'plantation_height',\n",
       "       'processing_method', 'brewing_time', 'mark'],\n",
       "      dtype='object')"
      ]
     },
     "execution_count": 19,
     "metadata": {},
     "output_type": "execute_result"
    }
   ],
   "source": [
    "coffee.columns"
   ]
  },
  {
   "cell_type": "code",
   "execution_count": 20,
   "metadata": {
    "colab": {
     "base_uri": "https://localhost:8080/",
     "height": 310
    },
    "colab_type": "code",
    "id": "k-4OTLD5ChLw",
    "outputId": "d566f5a9-6e41-4532-9adf-a2d2a9a6d2f8"
   },
   "outputs": [
    {
     "name": "stdout",
     "output_type": "stream",
     "text": [
      "region  :  ['Panama' 'Colombia' 'Rwanda' 'Kenya' 'Ethiopia' 'Honduras' 'Brazil'\n",
      " 'Guatemala']\n",
      "brewing_temp  :  [91.1 94.  91.6 92.3 98.9 88.9 88.8 85.2 92.8 92.  95.9 89.6 83.5 95.2\n",
      " 87.8 93.5 91.3 92.4 92.5 90.3 92.2 97.1 89.5 95.3 93.2]\n",
      "coffee_amount  :  [6.9 5.9 7.  9.5 8.3 8.6 6.3 6.  7.1 8.4 7.8 6.4 8.1 6.8 6.7 8.  5.3 7.3\n",
      " 4.5 6.1 7.5 9.2 5.7 5.4 7.2]\n",
      "preinfusion  :  [0.0 'unknown' 1.0]\n",
      "grinding_level  :  [7. 2. 4. 3. 5. 6. 1. 8. 9.]\n",
      "TDS  :  [0.12 0.14 0.13 0.11 0.15 0.09 0.1  0.16 0.08 0.06 0.07 0.17 0.2  0.05]\n",
      "water_ph  :  [6.67 3.   5.51 7.11 6.06 8.93 5.12 3.99 5.73 6.29 5.48 4.14 3.84 3.64\n",
      " 6.62 5.68 6.37 5.65 6.75 5.96 3.5  5.07 8.02 6.14 8.54]\n",
      "plantation_height  :  [1710. 1530. 1370. 1630. 1400. 1540. 1470. 1080. 1780. 1060. 1300. 1390.\n",
      " 1410. 1360. 1950. 1580. 1260. 1660. 1520. 1590. 1350. 1330. 1670. 1980.\n",
      " 1720.]\n",
      "processing_method  :  ['Honey' 'Washed' 'Natural' 'Pulped Natural']\n",
      "brewing_time  :  [189.  95. 147. 158. 178. 169. 166. 119. 151. 142. 197. 118. 195. 146.\n",
      " 213. 180. 128. 154. 101. 139. 157. 190. 167. 134. 187.]\n",
      "mark  :  [3 5 4 2 1]\n"
     ]
    }
   ],
   "source": [
    "for c in coffee.columns:\n",
    "    print(c,' : ',coffee[c].unique()[:25])"
   ]
  },
  {
   "cell_type": "markdown",
   "metadata": {
    "colab_type": "text",
    "id": "unMQ_-kvChL3"
   },
   "source": [
    "Which features are categorical ?"
   ]
  },
  {
   "cell_type": "code",
   "execution_count": 21,
   "metadata": {
    "colab": {},
    "colab_type": "code",
    "id": "F0alYXL1ChL4"
   },
   "outputs": [],
   "source": [
    "cat_features=['region','processing_method','preinfusion']"
   ]
  },
  {
   "cell_type": "markdown",
   "metadata": {
    "colab_type": "text",
    "id": "HG4-ZUQoChL-"
   },
   "source": [
    "Which features are continuous ?"
   ]
  },
  {
   "cell_type": "code",
   "execution_count": 22,
   "metadata": {
    "colab": {},
    "colab_type": "code",
    "id": "yQprrtv-ChL_"
   },
   "outputs": [],
   "source": [
    "continuous_features=[col for col in coffee.columns if \\\n",
    "                  (col not in cat_features) & (col not in ['mark','grinding_level'])]"
   ]
  },
  {
   "cell_type": "markdown",
   "metadata": {
    "colab_type": "text",
    "id": "kXcStSoHChMG"
   },
   "source": [
    "discrete features :"
   ]
  },
  {
   "cell_type": "code",
   "execution_count": 23,
   "metadata": {
    "colab": {},
    "colab_type": "code",
    "id": "VHION9xAChMH"
   },
   "outputs": [],
   "source": [
    "discrete_features=['grinding_level']"
   ]
  },
  {
   "cell_type": "markdown",
   "metadata": {
    "colab_type": "text",
    "id": "v-66P6emChMS"
   },
   "source": [
    "# descriptive statistics"
   ]
  },
  {
   "cell_type": "markdown",
   "metadata": {
    "colab_type": "text",
    "id": "VUCJu3jNChMT"
   },
   "source": [
    "summary statistics for the entire dataset :"
   ]
  },
  {
   "cell_type": "code",
   "execution_count": 24,
   "metadata": {
    "colab": {
     "base_uri": "https://localhost:8080/",
     "height": 277
    },
    "colab_type": "code",
    "id": "v4A0u1b_ChMV",
    "outputId": "95b23d17-116d-4cb6-d064-a750bbeb797d"
   },
   "outputs": [
    {
     "data": {
      "text/html": [
       "<div>\n",
       "<style scoped>\n",
       "    .dataframe tbody tr th:only-of-type {\n",
       "        vertical-align: middle;\n",
       "    }\n",
       "\n",
       "    .dataframe tbody tr th {\n",
       "        vertical-align: top;\n",
       "    }\n",
       "\n",
       "    .dataframe thead th {\n",
       "        text-align: right;\n",
       "    }\n",
       "</style>\n",
       "<table border=\"1\" class=\"dataframe\">\n",
       "  <thead>\n",
       "    <tr style=\"text-align: right;\">\n",
       "      <th></th>\n",
       "      <th>brewing_temp</th>\n",
       "      <th>coffee_amount</th>\n",
       "      <th>TDS</th>\n",
       "      <th>water_ph</th>\n",
       "      <th>plantation_height</th>\n",
       "      <th>brewing_time</th>\n",
       "    </tr>\n",
       "  </thead>\n",
       "  <tbody>\n",
       "    <tr>\n",
       "      <th>count</th>\n",
       "      <td>500.00</td>\n",
       "      <td>500.00</td>\n",
       "      <td>500.00</td>\n",
       "      <td>500.00</td>\n",
       "      <td>500.00</td>\n",
       "      <td>500.00</td>\n",
       "    </tr>\n",
       "    <tr>\n",
       "      <th>mean</th>\n",
       "      <td>91.39</td>\n",
       "      <td>6.98</td>\n",
       "      <td>0.12</td>\n",
       "      <td>6.30</td>\n",
       "      <td>1405.80</td>\n",
       "      <td>164.84</td>\n",
       "    </tr>\n",
       "    <tr>\n",
       "      <th>std</th>\n",
       "      <td>2.90</td>\n",
       "      <td>1.00</td>\n",
       "      <td>0.02</td>\n",
       "      <td>1.34</td>\n",
       "      <td>222.31</td>\n",
       "      <td>33.55</td>\n",
       "    </tr>\n",
       "    <tr>\n",
       "      <th>min</th>\n",
       "      <td>83.00</td>\n",
       "      <td>3.00</td>\n",
       "      <td>0.05</td>\n",
       "      <td>3.00</td>\n",
       "      <td>700.00</td>\n",
       "      <td>60.00</td>\n",
       "    </tr>\n",
       "    <tr>\n",
       "      <th>25%</th>\n",
       "      <td>89.30</td>\n",
       "      <td>6.30</td>\n",
       "      <td>0.11</td>\n",
       "      <td>5.40</td>\n",
       "      <td>1250.00</td>\n",
       "      <td>139.75</td>\n",
       "    </tr>\n",
       "    <tr>\n",
       "      <th>50%</th>\n",
       "      <td>91.30</td>\n",
       "      <td>6.90</td>\n",
       "      <td>0.12</td>\n",
       "      <td>6.28</td>\n",
       "      <td>1400.00</td>\n",
       "      <td>166.00</td>\n",
       "    </tr>\n",
       "    <tr>\n",
       "      <th>75%</th>\n",
       "      <td>93.40</td>\n",
       "      <td>7.70</td>\n",
       "      <td>0.13</td>\n",
       "      <td>7.24</td>\n",
       "      <td>1550.00</td>\n",
       "      <td>191.00</td>\n",
       "    </tr>\n",
       "    <tr>\n",
       "      <th>max</th>\n",
       "      <td>100.00</td>\n",
       "      <td>10.00</td>\n",
       "      <td>0.20</td>\n",
       "      <td>10.00</td>\n",
       "      <td>2000.00</td>\n",
       "      <td>240.00</td>\n",
       "    </tr>\n",
       "  </tbody>\n",
       "</table>\n",
       "</div>"
      ],
      "text/plain": [
       "       brewing_temp  coffee_amount     TDS  water_ph  plantation_height  \\\n",
       "count        500.00         500.00  500.00    500.00             500.00   \n",
       "mean          91.39           6.98    0.12      6.30            1405.80   \n",
       "std            2.90           1.00    0.02      1.34             222.31   \n",
       "min           83.00           3.00    0.05      3.00             700.00   \n",
       "25%           89.30           6.30    0.11      5.40            1250.00   \n",
       "50%           91.30           6.90    0.12      6.28            1400.00   \n",
       "75%           93.40           7.70    0.13      7.24            1550.00   \n",
       "max          100.00          10.00    0.20     10.00            2000.00   \n",
       "\n",
       "       brewing_time  \n",
       "count        500.00  \n",
       "mean         164.84  \n",
       "std           33.55  \n",
       "min           60.00  \n",
       "25%          139.75  \n",
       "50%          166.00  \n",
       "75%          191.00  \n",
       "max          240.00  "
      ]
     },
     "execution_count": 24,
     "metadata": {},
     "output_type": "execute_result"
    }
   ],
   "source": [
    "coffee[continuous_features].describe().round(2)"
   ]
  },
  {
   "cell_type": "markdown",
   "metadata": {
    "colab_type": "text",
    "id": "lWoeu5P2ChMd"
   },
   "source": [
    "summary statistics for the lowest rated coffee :"
   ]
  },
  {
   "cell_type": "code",
   "execution_count": 25,
   "metadata": {
    "colab": {
     "base_uri": "https://localhost:8080/",
     "height": 277
    },
    "colab_type": "code",
    "id": "0UL_YigSChMf",
    "outputId": "a7e066ba-6a77-4bf6-c343-73739872276c"
   },
   "outputs": [
    {
     "data": {
      "text/html": [
       "<div>\n",
       "<style scoped>\n",
       "    .dataframe tbody tr th:only-of-type {\n",
       "        vertical-align: middle;\n",
       "    }\n",
       "\n",
       "    .dataframe tbody tr th {\n",
       "        vertical-align: top;\n",
       "    }\n",
       "\n",
       "    .dataframe thead th {\n",
       "        text-align: right;\n",
       "    }\n",
       "</style>\n",
       "<table border=\"1\" class=\"dataframe\">\n",
       "  <thead>\n",
       "    <tr style=\"text-align: right;\">\n",
       "      <th></th>\n",
       "      <th>brewing_temp</th>\n",
       "      <th>coffee_amount</th>\n",
       "      <th>TDS</th>\n",
       "      <th>water_ph</th>\n",
       "      <th>plantation_height</th>\n",
       "      <th>brewing_time</th>\n",
       "    </tr>\n",
       "  </thead>\n",
       "  <tbody>\n",
       "    <tr>\n",
       "      <th>count</th>\n",
       "      <td>52.00</td>\n",
       "      <td>52.00</td>\n",
       "      <td>52.00</td>\n",
       "      <td>52.00</td>\n",
       "      <td>52.00</td>\n",
       "      <td>52.00</td>\n",
       "    </tr>\n",
       "    <tr>\n",
       "      <th>mean</th>\n",
       "      <td>91.38</td>\n",
       "      <td>6.47</td>\n",
       "      <td>0.12</td>\n",
       "      <td>6.02</td>\n",
       "      <td>1396.92</td>\n",
       "      <td>192.38</td>\n",
       "    </tr>\n",
       "    <tr>\n",
       "      <th>std</th>\n",
       "      <td>3.00</td>\n",
       "      <td>0.55</td>\n",
       "      <td>0.02</td>\n",
       "      <td>1.31</td>\n",
       "      <td>186.27</td>\n",
       "      <td>18.21</td>\n",
       "    </tr>\n",
       "    <tr>\n",
       "      <th>min</th>\n",
       "      <td>83.40</td>\n",
       "      <td>4.90</td>\n",
       "      <td>0.08</td>\n",
       "      <td>3.44</td>\n",
       "      <td>1070.00</td>\n",
       "      <td>153.00</td>\n",
       "    </tr>\n",
       "    <tr>\n",
       "      <th>25%</th>\n",
       "      <td>89.75</td>\n",
       "      <td>6.10</td>\n",
       "      <td>0.11</td>\n",
       "      <td>5.14</td>\n",
       "      <td>1257.50</td>\n",
       "      <td>178.75</td>\n",
       "    </tr>\n",
       "    <tr>\n",
       "      <th>50%</th>\n",
       "      <td>91.70</td>\n",
       "      <td>6.60</td>\n",
       "      <td>0.12</td>\n",
       "      <td>5.86</td>\n",
       "      <td>1380.00</td>\n",
       "      <td>192.00</td>\n",
       "    </tr>\n",
       "    <tr>\n",
       "      <th>75%</th>\n",
       "      <td>93.43</td>\n",
       "      <td>6.90</td>\n",
       "      <td>0.14</td>\n",
       "      <td>7.03</td>\n",
       "      <td>1525.00</td>\n",
       "      <td>203.75</td>\n",
       "    </tr>\n",
       "    <tr>\n",
       "      <th>max</th>\n",
       "      <td>97.10</td>\n",
       "      <td>7.50</td>\n",
       "      <td>0.20</td>\n",
       "      <td>8.65</td>\n",
       "      <td>1800.00</td>\n",
       "      <td>237.00</td>\n",
       "    </tr>\n",
       "  </tbody>\n",
       "</table>\n",
       "</div>"
      ],
      "text/plain": [
       "       brewing_temp  coffee_amount    TDS  water_ph  plantation_height  \\\n",
       "count         52.00          52.00  52.00     52.00              52.00   \n",
       "mean          91.38           6.47   0.12      6.02            1396.92   \n",
       "std            3.00           0.55   0.02      1.31             186.27   \n",
       "min           83.40           4.90   0.08      3.44            1070.00   \n",
       "25%           89.75           6.10   0.11      5.14            1257.50   \n",
       "50%           91.70           6.60   0.12      5.86            1380.00   \n",
       "75%           93.43           6.90   0.14      7.03            1525.00   \n",
       "max           97.10           7.50   0.20      8.65            1800.00   \n",
       "\n",
       "       brewing_time  \n",
       "count         52.00  \n",
       "mean         192.38  \n",
       "std           18.21  \n",
       "min          153.00  \n",
       "25%          178.75  \n",
       "50%          192.00  \n",
       "75%          203.75  \n",
       "max          237.00  "
      ]
     },
     "execution_count": 25,
     "metadata": {},
     "output_type": "execute_result"
    }
   ],
   "source": [
    "coffee[coffee.mark==1][continuous_features].describe().round(2)"
   ]
  },
  {
   "cell_type": "markdown",
   "metadata": {
    "colab_type": "text",
    "id": "iHvgq7PTChMn"
   },
   "source": [
    "summary statistics for the highest rated coffee :"
   ]
  },
  {
   "cell_type": "code",
   "execution_count": 26,
   "metadata": {
    "colab": {
     "base_uri": "https://localhost:8080/",
     "height": 277
    },
    "colab_type": "code",
    "id": "lLG_otwGChMp",
    "outputId": "5334336b-0707-4920-c5e0-aa3cbe3f58fd"
   },
   "outputs": [
    {
     "data": {
      "text/html": [
       "<div>\n",
       "<style scoped>\n",
       "    .dataframe tbody tr th:only-of-type {\n",
       "        vertical-align: middle;\n",
       "    }\n",
       "\n",
       "    .dataframe tbody tr th {\n",
       "        vertical-align: top;\n",
       "    }\n",
       "\n",
       "    .dataframe thead th {\n",
       "        text-align: right;\n",
       "    }\n",
       "</style>\n",
       "<table border=\"1\" class=\"dataframe\">\n",
       "  <thead>\n",
       "    <tr style=\"text-align: right;\">\n",
       "      <th></th>\n",
       "      <th>brewing_temp</th>\n",
       "      <th>coffee_amount</th>\n",
       "      <th>TDS</th>\n",
       "      <th>water_ph</th>\n",
       "      <th>plantation_height</th>\n",
       "      <th>brewing_time</th>\n",
       "    </tr>\n",
       "  </thead>\n",
       "  <tbody>\n",
       "    <tr>\n",
       "      <th>count</th>\n",
       "      <td>100.00</td>\n",
       "      <td>100.00</td>\n",
       "      <td>100.00</td>\n",
       "      <td>100.00</td>\n",
       "      <td>100.00</td>\n",
       "      <td>100.00</td>\n",
       "    </tr>\n",
       "    <tr>\n",
       "      <th>mean</th>\n",
       "      <td>91.28</td>\n",
       "      <td>7.10</td>\n",
       "      <td>0.12</td>\n",
       "      <td>6.37</td>\n",
       "      <td>1446.70</td>\n",
       "      <td>169.06</td>\n",
       "    </tr>\n",
       "    <tr>\n",
       "      <th>std</th>\n",
       "      <td>2.89</td>\n",
       "      <td>1.01</td>\n",
       "      <td>0.02</td>\n",
       "      <td>1.18</td>\n",
       "      <td>240.58</td>\n",
       "      <td>37.00</td>\n",
       "    </tr>\n",
       "    <tr>\n",
       "      <th>min</th>\n",
       "      <td>85.20</td>\n",
       "      <td>4.80</td>\n",
       "      <td>0.08</td>\n",
       "      <td>3.16</td>\n",
       "      <td>900.00</td>\n",
       "      <td>60.00</td>\n",
       "    </tr>\n",
       "    <tr>\n",
       "      <th>25%</th>\n",
       "      <td>88.90</td>\n",
       "      <td>6.40</td>\n",
       "      <td>0.11</td>\n",
       "      <td>5.65</td>\n",
       "      <td>1277.50</td>\n",
       "      <td>142.75</td>\n",
       "    </tr>\n",
       "    <tr>\n",
       "      <th>50%</th>\n",
       "      <td>90.95</td>\n",
       "      <td>7.00</td>\n",
       "      <td>0.12</td>\n",
       "      <td>6.44</td>\n",
       "      <td>1430.00</td>\n",
       "      <td>172.50</td>\n",
       "    </tr>\n",
       "    <tr>\n",
       "      <th>75%</th>\n",
       "      <td>93.32</td>\n",
       "      <td>8.00</td>\n",
       "      <td>0.13</td>\n",
       "      <td>7.25</td>\n",
       "      <td>1590.00</td>\n",
       "      <td>196.75</td>\n",
       "    </tr>\n",
       "    <tr>\n",
       "      <th>max</th>\n",
       "      <td>99.30</td>\n",
       "      <td>9.20</td>\n",
       "      <td>0.16</td>\n",
       "      <td>8.93</td>\n",
       "      <td>1970.00</td>\n",
       "      <td>234.00</td>\n",
       "    </tr>\n",
       "  </tbody>\n",
       "</table>\n",
       "</div>"
      ],
      "text/plain": [
       "       brewing_temp  coffee_amount     TDS  water_ph  plantation_height  \\\n",
       "count        100.00         100.00  100.00    100.00             100.00   \n",
       "mean          91.28           7.10    0.12      6.37            1446.70   \n",
       "std            2.89           1.01    0.02      1.18             240.58   \n",
       "min           85.20           4.80    0.08      3.16             900.00   \n",
       "25%           88.90           6.40    0.11      5.65            1277.50   \n",
       "50%           90.95           7.00    0.12      6.44            1430.00   \n",
       "75%           93.32           8.00    0.13      7.25            1590.00   \n",
       "max           99.30           9.20    0.16      8.93            1970.00   \n",
       "\n",
       "       brewing_time  \n",
       "count        100.00  \n",
       "mean         169.06  \n",
       "std           37.00  \n",
       "min           60.00  \n",
       "25%          142.75  \n",
       "50%          172.50  \n",
       "75%          196.75  \n",
       "max          234.00  "
      ]
     },
     "execution_count": 26,
     "metadata": {},
     "output_type": "execute_result"
    }
   ],
   "source": [
    "coffee[coffee.mark==5][continuous_features].describe().round(2)"
   ]
  },
  {
   "cell_type": "markdown",
   "metadata": {
    "colab_type": "text",
    "id": "Qz4-lzfGChMv"
   },
   "source": [
    "When we compare coffee of rating 1 with coffee rated 5 we can observe that:\n",
    "1. On average, better coffee has higher coffee amount\n",
    "2. The water ph is higher in better coffee\n",
    "3. Plantation height is greater in coffee rated 5\n",
    "4. Coffee rated 5 has shorter brewing time than coffee rated 1"
   ]
  },
  {
   "cell_type": "markdown",
   "metadata": {
    "colab_type": "text",
    "id": "ul-eHTOyChMw"
   },
   "source": [
    "The same 4 observations holds true when we compare general coffee with coffee of rating 5,\n",
    "however the differences are less pronounced."
   ]
  },
  {
   "cell_type": "markdown",
   "metadata": {
    "colab_type": "text",
    "id": "aJwJW0jBoG_q"
   },
   "source": [
    "Let's compare coffee rated 3 with the general coffee (coffee of all ratings)"
   ]
  },
  {
   "cell_type": "code",
   "execution_count": 27,
   "metadata": {
    "colab": {
     "base_uri": "https://localhost:8080/",
     "height": 277
    },
    "colab_type": "code",
    "id": "3IckvNa9nHEV",
    "outputId": "1725d707-0cbd-4e02-8c62-11dc864f3363"
   },
   "outputs": [
    {
     "data": {
      "text/html": [
       "<div>\n",
       "<style scoped>\n",
       "    .dataframe tbody tr th:only-of-type {\n",
       "        vertical-align: middle;\n",
       "    }\n",
       "\n",
       "    .dataframe tbody tr th {\n",
       "        vertical-align: top;\n",
       "    }\n",
       "\n",
       "    .dataframe thead th {\n",
       "        text-align: right;\n",
       "    }\n",
       "</style>\n",
       "<table border=\"1\" class=\"dataframe\">\n",
       "  <thead>\n",
       "    <tr style=\"text-align: right;\">\n",
       "      <th></th>\n",
       "      <th>brewing_temp</th>\n",
       "      <th>coffee_amount</th>\n",
       "      <th>TDS</th>\n",
       "      <th>water_ph</th>\n",
       "      <th>plantation_height</th>\n",
       "      <th>brewing_time</th>\n",
       "    </tr>\n",
       "  </thead>\n",
       "  <tbody>\n",
       "    <tr>\n",
       "      <th>count</th>\n",
       "      <td>149.00</td>\n",
       "      <td>149.00</td>\n",
       "      <td>149.00</td>\n",
       "      <td>149.00</td>\n",
       "      <td>149.00</td>\n",
       "      <td>149.00</td>\n",
       "    </tr>\n",
       "    <tr>\n",
       "      <th>mean</th>\n",
       "      <td>93.87</td>\n",
       "      <td>7.17</td>\n",
       "      <td>0.12</td>\n",
       "      <td>6.41</td>\n",
       "      <td>1415.23</td>\n",
       "      <td>165.57</td>\n",
       "    </tr>\n",
       "    <tr>\n",
       "      <th>std</th>\n",
       "      <td>2.06</td>\n",
       "      <td>1.15</td>\n",
       "      <td>0.02</td>\n",
       "      <td>1.30</td>\n",
       "      <td>204.15</td>\n",
       "      <td>36.33</td>\n",
       "    </tr>\n",
       "    <tr>\n",
       "      <th>min</th>\n",
       "      <td>87.20</td>\n",
       "      <td>4.50</td>\n",
       "      <td>0.05</td>\n",
       "      <td>3.00</td>\n",
       "      <td>750.00</td>\n",
       "      <td>67.00</td>\n",
       "    </tr>\n",
       "    <tr>\n",
       "      <th>25%</th>\n",
       "      <td>92.50</td>\n",
       "      <td>6.30</td>\n",
       "      <td>0.11</td>\n",
       "      <td>5.45</td>\n",
       "      <td>1270.00</td>\n",
       "      <td>138.00</td>\n",
       "    </tr>\n",
       "    <tr>\n",
       "      <th>50%</th>\n",
       "      <td>93.80</td>\n",
       "      <td>7.20</td>\n",
       "      <td>0.12</td>\n",
       "      <td>6.37</td>\n",
       "      <td>1420.00</td>\n",
       "      <td>170.00</td>\n",
       "    </tr>\n",
       "    <tr>\n",
       "      <th>75%</th>\n",
       "      <td>95.40</td>\n",
       "      <td>8.00</td>\n",
       "      <td>0.13</td>\n",
       "      <td>7.39</td>\n",
       "      <td>1570.00</td>\n",
       "      <td>191.00</td>\n",
       "    </tr>\n",
       "    <tr>\n",
       "      <th>max</th>\n",
       "      <td>100.00</td>\n",
       "      <td>10.00</td>\n",
       "      <td>0.16</td>\n",
       "      <td>9.32</td>\n",
       "      <td>1990.00</td>\n",
       "      <td>236.00</td>\n",
       "    </tr>\n",
       "  </tbody>\n",
       "</table>\n",
       "</div>"
      ],
      "text/plain": [
       "       brewing_temp  coffee_amount     TDS  water_ph  plantation_height  \\\n",
       "count        149.00         149.00  149.00    149.00             149.00   \n",
       "mean          93.87           7.17    0.12      6.41            1415.23   \n",
       "std            2.06           1.15    0.02      1.30             204.15   \n",
       "min           87.20           4.50    0.05      3.00             750.00   \n",
       "25%           92.50           6.30    0.11      5.45            1270.00   \n",
       "50%           93.80           7.20    0.12      6.37            1420.00   \n",
       "75%           95.40           8.00    0.13      7.39            1570.00   \n",
       "max          100.00          10.00    0.16      9.32            1990.00   \n",
       "\n",
       "       brewing_time  \n",
       "count        149.00  \n",
       "mean         165.57  \n",
       "std           36.33  \n",
       "min           67.00  \n",
       "25%          138.00  \n",
       "50%          170.00  \n",
       "75%          191.00  \n",
       "max          236.00  "
      ]
     },
     "execution_count": 27,
     "metadata": {},
     "output_type": "execute_result"
    }
   ],
   "source": [
    "coffee[coffee.mark==3][continuous_features].describe().round(2)"
   ]
  },
  {
   "cell_type": "code",
   "execution_count": 28,
   "metadata": {
    "colab": {
     "base_uri": "https://localhost:8080/",
     "height": 277
    },
    "colab_type": "code",
    "id": "wWfVtiphnSVR",
    "outputId": "f798aec6-fa3e-489e-b4c3-f5b18ff63bc5"
   },
   "outputs": [
    {
     "data": {
      "text/html": [
       "<div>\n",
       "<style scoped>\n",
       "    .dataframe tbody tr th:only-of-type {\n",
       "        vertical-align: middle;\n",
       "    }\n",
       "\n",
       "    .dataframe tbody tr th {\n",
       "        vertical-align: top;\n",
       "    }\n",
       "\n",
       "    .dataframe thead th {\n",
       "        text-align: right;\n",
       "    }\n",
       "</style>\n",
       "<table border=\"1\" class=\"dataframe\">\n",
       "  <thead>\n",
       "    <tr style=\"text-align: right;\">\n",
       "      <th></th>\n",
       "      <th>brewing_temp</th>\n",
       "      <th>coffee_amount</th>\n",
       "      <th>TDS</th>\n",
       "      <th>water_ph</th>\n",
       "      <th>plantation_height</th>\n",
       "      <th>brewing_time</th>\n",
       "    </tr>\n",
       "  </thead>\n",
       "  <tbody>\n",
       "    <tr>\n",
       "      <th>count</th>\n",
       "      <td>500.00</td>\n",
       "      <td>500.00</td>\n",
       "      <td>500.00</td>\n",
       "      <td>500.00</td>\n",
       "      <td>500.00</td>\n",
       "      <td>500.00</td>\n",
       "    </tr>\n",
       "    <tr>\n",
       "      <th>mean</th>\n",
       "      <td>91.39</td>\n",
       "      <td>6.98</td>\n",
       "      <td>0.12</td>\n",
       "      <td>6.30</td>\n",
       "      <td>1405.80</td>\n",
       "      <td>164.84</td>\n",
       "    </tr>\n",
       "    <tr>\n",
       "      <th>std</th>\n",
       "      <td>2.90</td>\n",
       "      <td>1.00</td>\n",
       "      <td>0.02</td>\n",
       "      <td>1.34</td>\n",
       "      <td>222.31</td>\n",
       "      <td>33.55</td>\n",
       "    </tr>\n",
       "    <tr>\n",
       "      <th>min</th>\n",
       "      <td>83.00</td>\n",
       "      <td>3.00</td>\n",
       "      <td>0.05</td>\n",
       "      <td>3.00</td>\n",
       "      <td>700.00</td>\n",
       "      <td>60.00</td>\n",
       "    </tr>\n",
       "    <tr>\n",
       "      <th>25%</th>\n",
       "      <td>89.30</td>\n",
       "      <td>6.30</td>\n",
       "      <td>0.11</td>\n",
       "      <td>5.40</td>\n",
       "      <td>1250.00</td>\n",
       "      <td>139.75</td>\n",
       "    </tr>\n",
       "    <tr>\n",
       "      <th>50%</th>\n",
       "      <td>91.30</td>\n",
       "      <td>6.90</td>\n",
       "      <td>0.12</td>\n",
       "      <td>6.28</td>\n",
       "      <td>1400.00</td>\n",
       "      <td>166.00</td>\n",
       "    </tr>\n",
       "    <tr>\n",
       "      <th>75%</th>\n",
       "      <td>93.40</td>\n",
       "      <td>7.70</td>\n",
       "      <td>0.13</td>\n",
       "      <td>7.24</td>\n",
       "      <td>1550.00</td>\n",
       "      <td>191.00</td>\n",
       "    </tr>\n",
       "    <tr>\n",
       "      <th>max</th>\n",
       "      <td>100.00</td>\n",
       "      <td>10.00</td>\n",
       "      <td>0.20</td>\n",
       "      <td>10.00</td>\n",
       "      <td>2000.00</td>\n",
       "      <td>240.00</td>\n",
       "    </tr>\n",
       "  </tbody>\n",
       "</table>\n",
       "</div>"
      ],
      "text/plain": [
       "       brewing_temp  coffee_amount     TDS  water_ph  plantation_height  \\\n",
       "count        500.00         500.00  500.00    500.00             500.00   \n",
       "mean          91.39           6.98    0.12      6.30            1405.80   \n",
       "std            2.90           1.00    0.02      1.34             222.31   \n",
       "min           83.00           3.00    0.05      3.00             700.00   \n",
       "25%           89.30           6.30    0.11      5.40            1250.00   \n",
       "50%           91.30           6.90    0.12      6.28            1400.00   \n",
       "75%           93.40           7.70    0.13      7.24            1550.00   \n",
       "max          100.00          10.00    0.20     10.00            2000.00   \n",
       "\n",
       "       brewing_time  \n",
       "count        500.00  \n",
       "mean         164.84  \n",
       "std           33.55  \n",
       "min           60.00  \n",
       "25%          139.75  \n",
       "50%          166.00  \n",
       "75%          191.00  \n",
       "max          240.00  "
      ]
     },
     "execution_count": 28,
     "metadata": {},
     "output_type": "execute_result"
    }
   ],
   "source": [
    "coffee[continuous_features].describe().round(2)"
   ]
  },
  {
   "cell_type": "markdown",
   "metadata": {
    "colab_type": "text",
    "id": "amsyttvXoW_T"
   },
   "source": [
    "One can see that coffee rated 3 has :\n",
    "- above average brewing_temp\n",
    "- above average coffee_amount\n",
    "- above average water_ph\n",
    "- above average plantation_height"
   ]
  },
  {
   "cell_type": "markdown",
   "metadata": {
    "colab_type": "text",
    "id": "QNSzWXEEer0j"
   },
   "source": [
    "coffee rated 4 vs general coffee :"
   ]
  },
  {
   "cell_type": "code",
   "execution_count": 29,
   "metadata": {
    "colab": {
     "base_uri": "https://localhost:8080/",
     "height": 277
    },
    "colab_type": "code",
    "id": "rxSz2Z2fex1A",
    "outputId": "19ca0d9c-b3a4-4fd3-c4d5-633dde55e01e"
   },
   "outputs": [
    {
     "data": {
      "text/html": [
       "<div>\n",
       "<style scoped>\n",
       "    .dataframe tbody tr th:only-of-type {\n",
       "        vertical-align: middle;\n",
       "    }\n",
       "\n",
       "    .dataframe tbody tr th {\n",
       "        vertical-align: top;\n",
       "    }\n",
       "\n",
       "    .dataframe thead th {\n",
       "        text-align: right;\n",
       "    }\n",
       "</style>\n",
       "<table border=\"1\" class=\"dataframe\">\n",
       "  <thead>\n",
       "    <tr style=\"text-align: right;\">\n",
       "      <th></th>\n",
       "      <th>brewing_temp</th>\n",
       "      <th>coffee_amount</th>\n",
       "      <th>TDS</th>\n",
       "      <th>water_ph</th>\n",
       "      <th>plantation_height</th>\n",
       "      <th>brewing_time</th>\n",
       "    </tr>\n",
       "  </thead>\n",
       "  <tbody>\n",
       "    <tr>\n",
       "      <th>count</th>\n",
       "      <td>100.00</td>\n",
       "      <td>100.00</td>\n",
       "      <td>100.00</td>\n",
       "      <td>100.00</td>\n",
       "      <td>100.0</td>\n",
       "      <td>100.00</td>\n",
       "    </tr>\n",
       "    <tr>\n",
       "      <th>mean</th>\n",
       "      <td>89.49</td>\n",
       "      <td>6.51</td>\n",
       "      <td>0.12</td>\n",
       "      <td>6.32</td>\n",
       "      <td>1368.6</td>\n",
       "      <td>146.24</td>\n",
       "    </tr>\n",
       "    <tr>\n",
       "      <th>std</th>\n",
       "      <td>2.04</td>\n",
       "      <td>0.56</td>\n",
       "      <td>0.02</td>\n",
       "      <td>1.51</td>\n",
       "      <td>240.1</td>\n",
       "      <td>16.37</td>\n",
       "    </tr>\n",
       "    <tr>\n",
       "      <th>min</th>\n",
       "      <td>83.00</td>\n",
       "      <td>4.60</td>\n",
       "      <td>0.06</td>\n",
       "      <td>3.39</td>\n",
       "      <td>700.0</td>\n",
       "      <td>97.00</td>\n",
       "    </tr>\n",
       "    <tr>\n",
       "      <th>25%</th>\n",
       "      <td>88.57</td>\n",
       "      <td>6.10</td>\n",
       "      <td>0.10</td>\n",
       "      <td>5.26</td>\n",
       "      <td>1227.5</td>\n",
       "      <td>135.75</td>\n",
       "    </tr>\n",
       "    <tr>\n",
       "      <th>50%</th>\n",
       "      <td>89.60</td>\n",
       "      <td>6.60</td>\n",
       "      <td>0.12</td>\n",
       "      <td>6.22</td>\n",
       "      <td>1380.0</td>\n",
       "      <td>148.00</td>\n",
       "    </tr>\n",
       "    <tr>\n",
       "      <th>75%</th>\n",
       "      <td>90.72</td>\n",
       "      <td>6.90</td>\n",
       "      <td>0.13</td>\n",
       "      <td>7.38</td>\n",
       "      <td>1492.5</td>\n",
       "      <td>156.25</td>\n",
       "    </tr>\n",
       "    <tr>\n",
       "      <th>max</th>\n",
       "      <td>94.10</td>\n",
       "      <td>8.20</td>\n",
       "      <td>0.20</td>\n",
       "      <td>10.00</td>\n",
       "      <td>2000.0</td>\n",
       "      <td>183.00</td>\n",
       "    </tr>\n",
       "  </tbody>\n",
       "</table>\n",
       "</div>"
      ],
      "text/plain": [
       "       brewing_temp  coffee_amount     TDS  water_ph  plantation_height  \\\n",
       "count        100.00         100.00  100.00    100.00              100.0   \n",
       "mean          89.49           6.51    0.12      6.32             1368.6   \n",
       "std            2.04           0.56    0.02      1.51              240.1   \n",
       "min           83.00           4.60    0.06      3.39              700.0   \n",
       "25%           88.57           6.10    0.10      5.26             1227.5   \n",
       "50%           89.60           6.60    0.12      6.22             1380.0   \n",
       "75%           90.72           6.90    0.13      7.38             1492.5   \n",
       "max           94.10           8.20    0.20     10.00             2000.0   \n",
       "\n",
       "       brewing_time  \n",
       "count        100.00  \n",
       "mean         146.24  \n",
       "std           16.37  \n",
       "min           97.00  \n",
       "25%          135.75  \n",
       "50%          148.00  \n",
       "75%          156.25  \n",
       "max          183.00  "
      ]
     },
     "execution_count": 29,
     "metadata": {},
     "output_type": "execute_result"
    }
   ],
   "source": [
    "coffee[coffee.mark==4][continuous_features].describe().round(2)"
   ]
  },
  {
   "cell_type": "markdown",
   "metadata": {
    "colab_type": "text",
    "id": "v-7dK9mhgK4i"
   },
   "source": [
    "Coffee rated 4 has:\n",
    "- below average brewing_temp\n",
    "- below average coffee amount\n",
    "- below average plantation height\n",
    "- below average brewing_time"
   ]
  },
  {
   "cell_type": "markdown",
   "metadata": {
    "colab_type": "text",
    "id": "PHuo-SvFhF2a"
   },
   "source": [
    "Coffee rated 2 vs general coffee :"
   ]
  },
  {
   "cell_type": "code",
   "execution_count": 30,
   "metadata": {
    "colab": {
     "base_uri": "https://localhost:8080/",
     "height": 277
    },
    "colab_type": "code",
    "id": "BSvDmrShhKha",
    "outputId": "ff21768e-b799-4262-ed42-db9e57500a21"
   },
   "outputs": [
    {
     "data": {
      "text/html": [
       "<div>\n",
       "<style scoped>\n",
       "    .dataframe tbody tr th:only-of-type {\n",
       "        vertical-align: middle;\n",
       "    }\n",
       "\n",
       "    .dataframe tbody tr th {\n",
       "        vertical-align: top;\n",
       "    }\n",
       "\n",
       "    .dataframe thead th {\n",
       "        text-align: right;\n",
       "    }\n",
       "</style>\n",
       "<table border=\"1\" class=\"dataframe\">\n",
       "  <thead>\n",
       "    <tr style=\"text-align: right;\">\n",
       "      <th></th>\n",
       "      <th>brewing_temp</th>\n",
       "      <th>coffee_amount</th>\n",
       "      <th>TDS</th>\n",
       "      <th>water_ph</th>\n",
       "      <th>plantation_height</th>\n",
       "      <th>brewing_time</th>\n",
       "    </tr>\n",
       "  </thead>\n",
       "  <tbody>\n",
       "    <tr>\n",
       "      <th>count</th>\n",
       "      <td>500.00</td>\n",
       "      <td>500.00</td>\n",
       "      <td>500.00</td>\n",
       "      <td>500.00</td>\n",
       "      <td>500.00</td>\n",
       "      <td>500.00</td>\n",
       "    </tr>\n",
       "    <tr>\n",
       "      <th>mean</th>\n",
       "      <td>91.39</td>\n",
       "      <td>6.98</td>\n",
       "      <td>0.12</td>\n",
       "      <td>6.30</td>\n",
       "      <td>1405.80</td>\n",
       "      <td>164.84</td>\n",
       "    </tr>\n",
       "    <tr>\n",
       "      <th>std</th>\n",
       "      <td>2.90</td>\n",
       "      <td>1.00</td>\n",
       "      <td>0.02</td>\n",
       "      <td>1.34</td>\n",
       "      <td>222.31</td>\n",
       "      <td>33.55</td>\n",
       "    </tr>\n",
       "    <tr>\n",
       "      <th>min</th>\n",
       "      <td>83.00</td>\n",
       "      <td>3.00</td>\n",
       "      <td>0.05</td>\n",
       "      <td>3.00</td>\n",
       "      <td>700.00</td>\n",
       "      <td>60.00</td>\n",
       "    </tr>\n",
       "    <tr>\n",
       "      <th>25%</th>\n",
       "      <td>89.30</td>\n",
       "      <td>6.30</td>\n",
       "      <td>0.11</td>\n",
       "      <td>5.40</td>\n",
       "      <td>1250.00</td>\n",
       "      <td>139.75</td>\n",
       "    </tr>\n",
       "    <tr>\n",
       "      <th>50%</th>\n",
       "      <td>91.30</td>\n",
       "      <td>6.90</td>\n",
       "      <td>0.12</td>\n",
       "      <td>6.28</td>\n",
       "      <td>1400.00</td>\n",
       "      <td>166.00</td>\n",
       "    </tr>\n",
       "    <tr>\n",
       "      <th>75%</th>\n",
       "      <td>93.40</td>\n",
       "      <td>7.70</td>\n",
       "      <td>0.13</td>\n",
       "      <td>7.24</td>\n",
       "      <td>1550.00</td>\n",
       "      <td>191.00</td>\n",
       "    </tr>\n",
       "    <tr>\n",
       "      <th>max</th>\n",
       "      <td>100.00</td>\n",
       "      <td>10.00</td>\n",
       "      <td>0.20</td>\n",
       "      <td>10.00</td>\n",
       "      <td>2000.00</td>\n",
       "      <td>240.00</td>\n",
       "    </tr>\n",
       "  </tbody>\n",
       "</table>\n",
       "</div>"
      ],
      "text/plain": [
       "       brewing_temp  coffee_amount     TDS  water_ph  plantation_height  \\\n",
       "count        500.00         500.00  500.00    500.00             500.00   \n",
       "mean          91.39           6.98    0.12      6.30            1405.80   \n",
       "std            2.90           1.00    0.02      1.34             222.31   \n",
       "min           83.00           3.00    0.05      3.00             700.00   \n",
       "25%           89.30           6.30    0.11      5.40            1250.00   \n",
       "50%           91.30           6.90    0.12      6.28            1400.00   \n",
       "75%           93.40           7.70    0.13      7.24            1550.00   \n",
       "max          100.00          10.00    0.20     10.00            2000.00   \n",
       "\n",
       "       brewing_time  \n",
       "count        500.00  \n",
       "mean         164.84  \n",
       "std           33.55  \n",
       "min           60.00  \n",
       "25%          139.75  \n",
       "50%          166.00  \n",
       "75%          191.00  \n",
       "max          240.00  "
      ]
     },
     "execution_count": 30,
     "metadata": {},
     "output_type": "execute_result"
    }
   ],
   "source": [
    "coffee[continuous_features].describe().round(2)"
   ]
  },
  {
   "cell_type": "code",
   "execution_count": 31,
   "metadata": {
    "colab": {
     "base_uri": "https://localhost:8080/",
     "height": 277
    },
    "colab_type": "code",
    "id": "FyWEgzPuhSaT",
    "outputId": "b2d6e716-eee4-4a25-83dc-41ddfdc80a1d"
   },
   "outputs": [
    {
     "data": {
      "text/html": [
       "<div>\n",
       "<style scoped>\n",
       "    .dataframe tbody tr th:only-of-type {\n",
       "        vertical-align: middle;\n",
       "    }\n",
       "\n",
       "    .dataframe tbody tr th {\n",
       "        vertical-align: top;\n",
       "    }\n",
       "\n",
       "    .dataframe thead th {\n",
       "        text-align: right;\n",
       "    }\n",
       "</style>\n",
       "<table border=\"1\" class=\"dataframe\">\n",
       "  <thead>\n",
       "    <tr style=\"text-align: right;\">\n",
       "      <th></th>\n",
       "      <th>brewing_temp</th>\n",
       "      <th>coffee_amount</th>\n",
       "      <th>TDS</th>\n",
       "      <th>water_ph</th>\n",
       "      <th>plantation_height</th>\n",
       "      <th>brewing_time</th>\n",
       "    </tr>\n",
       "  </thead>\n",
       "  <tbody>\n",
       "    <tr>\n",
       "      <th>count</th>\n",
       "      <td>99.00</td>\n",
       "      <td>99.00</td>\n",
       "      <td>99.00</td>\n",
       "      <td>99.00</td>\n",
       "      <td>99.00</td>\n",
       "      <td>99.0</td>\n",
       "    </tr>\n",
       "    <tr>\n",
       "      <th>mean</th>\n",
       "      <td>89.68</td>\n",
       "      <td>7.31</td>\n",
       "      <td>0.12</td>\n",
       "      <td>6.20</td>\n",
       "      <td>1392.53</td>\n",
       "      <td>163.8</td>\n",
       "    </tr>\n",
       "    <tr>\n",
       "      <th>std</th>\n",
       "      <td>1.71</td>\n",
       "      <td>1.02</td>\n",
       "      <td>0.02</td>\n",
       "      <td>1.41</td>\n",
       "      <td>224.63</td>\n",
       "      <td>33.7</td>\n",
       "    </tr>\n",
       "    <tr>\n",
       "      <th>min</th>\n",
       "      <td>85.50</td>\n",
       "      <td>3.00</td>\n",
       "      <td>0.06</td>\n",
       "      <td>3.25</td>\n",
       "      <td>850.00</td>\n",
       "      <td>85.0</td>\n",
       "    </tr>\n",
       "    <tr>\n",
       "      <th>25%</th>\n",
       "      <td>88.65</td>\n",
       "      <td>6.80</td>\n",
       "      <td>0.11</td>\n",
       "      <td>5.26</td>\n",
       "      <td>1240.00</td>\n",
       "      <td>135.5</td>\n",
       "    </tr>\n",
       "    <tr>\n",
       "      <th>50%</th>\n",
       "      <td>89.80</td>\n",
       "      <td>7.20</td>\n",
       "      <td>0.12</td>\n",
       "      <td>6.14</td>\n",
       "      <td>1380.00</td>\n",
       "      <td>159.0</td>\n",
       "    </tr>\n",
       "    <tr>\n",
       "      <th>75%</th>\n",
       "      <td>90.75</td>\n",
       "      <td>7.90</td>\n",
       "      <td>0.13</td>\n",
       "      <td>7.06</td>\n",
       "      <td>1540.00</td>\n",
       "      <td>189.5</td>\n",
       "    </tr>\n",
       "    <tr>\n",
       "      <th>max</th>\n",
       "      <td>94.60</td>\n",
       "      <td>9.30</td>\n",
       "      <td>0.17</td>\n",
       "      <td>9.22</td>\n",
       "      <td>1980.00</td>\n",
       "      <td>240.0</td>\n",
       "    </tr>\n",
       "  </tbody>\n",
       "</table>\n",
       "</div>"
      ],
      "text/plain": [
       "       brewing_temp  coffee_amount    TDS  water_ph  plantation_height  \\\n",
       "count         99.00          99.00  99.00     99.00              99.00   \n",
       "mean          89.68           7.31   0.12      6.20            1392.53   \n",
       "std            1.71           1.02   0.02      1.41             224.63   \n",
       "min           85.50           3.00   0.06      3.25             850.00   \n",
       "25%           88.65           6.80   0.11      5.26            1240.00   \n",
       "50%           89.80           7.20   0.12      6.14            1380.00   \n",
       "75%           90.75           7.90   0.13      7.06            1540.00   \n",
       "max           94.60           9.30   0.17      9.22            1980.00   \n",
       "\n",
       "       brewing_time  \n",
       "count          99.0  \n",
       "mean          163.8  \n",
       "std            33.7  \n",
       "min            85.0  \n",
       "25%           135.5  \n",
       "50%           159.0  \n",
       "75%           189.5  \n",
       "max           240.0  "
      ]
     },
     "execution_count": 31,
     "metadata": {},
     "output_type": "execute_result"
    }
   ],
   "source": [
    "coffee[coffee.mark==2][continuous_features].describe().round(2)"
   ]
  },
  {
   "cell_type": "markdown",
   "metadata": {
    "colab_type": "text",
    "id": "L7m0emFGhlYQ"
   },
   "source": [
    "Coffee rated 2 has :\n",
    "- below average brewing_temp\n",
    "- above average coffee_amount\n",
    "- below average plantation_height"
   ]
  },
  {
   "cell_type": "markdown",
   "metadata": {
    "colab_type": "text",
    "id": "7ZN_av--rPBA"
   },
   "source": [
    "coffee rated 1 vs general coffee"
   ]
  },
  {
   "cell_type": "code",
   "execution_count": 32,
   "metadata": {
    "colab": {
     "base_uri": "https://localhost:8080/",
     "height": 287
    },
    "colab_type": "code",
    "id": "Wo9NUb-nrT4p",
    "outputId": "6b393713-2be6-48e5-97bf-8403fd711d15"
   },
   "outputs": [
    {
     "data": {
      "text/html": [
       "<div>\n",
       "<style scoped>\n",
       "    .dataframe tbody tr th:only-of-type {\n",
       "        vertical-align: middle;\n",
       "    }\n",
       "\n",
       "    .dataframe tbody tr th {\n",
       "        vertical-align: top;\n",
       "    }\n",
       "\n",
       "    .dataframe thead th {\n",
       "        text-align: right;\n",
       "    }\n",
       "</style>\n",
       "<table border=\"1\" class=\"dataframe\">\n",
       "  <thead>\n",
       "    <tr style=\"text-align: right;\">\n",
       "      <th></th>\n",
       "      <th>brewing_temp</th>\n",
       "      <th>coffee_amount</th>\n",
       "      <th>TDS</th>\n",
       "      <th>water_ph</th>\n",
       "      <th>plantation_height</th>\n",
       "      <th>brewing_time</th>\n",
       "    </tr>\n",
       "  </thead>\n",
       "  <tbody>\n",
       "    <tr>\n",
       "      <th>count</th>\n",
       "      <td>500.00</td>\n",
       "      <td>500.00</td>\n",
       "      <td>500.00</td>\n",
       "      <td>500.00</td>\n",
       "      <td>500.00</td>\n",
       "      <td>500.00</td>\n",
       "    </tr>\n",
       "    <tr>\n",
       "      <th>mean</th>\n",
       "      <td>91.39</td>\n",
       "      <td>6.98</td>\n",
       "      <td>0.12</td>\n",
       "      <td>6.30</td>\n",
       "      <td>1405.80</td>\n",
       "      <td>164.84</td>\n",
       "    </tr>\n",
       "    <tr>\n",
       "      <th>std</th>\n",
       "      <td>2.90</td>\n",
       "      <td>1.00</td>\n",
       "      <td>0.02</td>\n",
       "      <td>1.34</td>\n",
       "      <td>222.31</td>\n",
       "      <td>33.55</td>\n",
       "    </tr>\n",
       "    <tr>\n",
       "      <th>min</th>\n",
       "      <td>83.00</td>\n",
       "      <td>3.00</td>\n",
       "      <td>0.05</td>\n",
       "      <td>3.00</td>\n",
       "      <td>700.00</td>\n",
       "      <td>60.00</td>\n",
       "    </tr>\n",
       "    <tr>\n",
       "      <th>25%</th>\n",
       "      <td>89.30</td>\n",
       "      <td>6.30</td>\n",
       "      <td>0.11</td>\n",
       "      <td>5.40</td>\n",
       "      <td>1250.00</td>\n",
       "      <td>139.75</td>\n",
       "    </tr>\n",
       "    <tr>\n",
       "      <th>50%</th>\n",
       "      <td>91.30</td>\n",
       "      <td>6.90</td>\n",
       "      <td>0.12</td>\n",
       "      <td>6.28</td>\n",
       "      <td>1400.00</td>\n",
       "      <td>166.00</td>\n",
       "    </tr>\n",
       "    <tr>\n",
       "      <th>75%</th>\n",
       "      <td>93.40</td>\n",
       "      <td>7.70</td>\n",
       "      <td>0.13</td>\n",
       "      <td>7.24</td>\n",
       "      <td>1550.00</td>\n",
       "      <td>191.00</td>\n",
       "    </tr>\n",
       "    <tr>\n",
       "      <th>max</th>\n",
       "      <td>100.00</td>\n",
       "      <td>10.00</td>\n",
       "      <td>0.20</td>\n",
       "      <td>10.00</td>\n",
       "      <td>2000.00</td>\n",
       "      <td>240.00</td>\n",
       "    </tr>\n",
       "  </tbody>\n",
       "</table>\n",
       "</div>"
      ],
      "text/plain": [
       "       brewing_temp  coffee_amount     TDS  water_ph  plantation_height  \\\n",
       "count        500.00         500.00  500.00    500.00             500.00   \n",
       "mean          91.39           6.98    0.12      6.30            1405.80   \n",
       "std            2.90           1.00    0.02      1.34             222.31   \n",
       "min           83.00           3.00    0.05      3.00             700.00   \n",
       "25%           89.30           6.30    0.11      5.40            1250.00   \n",
       "50%           91.30           6.90    0.12      6.28            1400.00   \n",
       "75%           93.40           7.70    0.13      7.24            1550.00   \n",
       "max          100.00          10.00    0.20     10.00            2000.00   \n",
       "\n",
       "       brewing_time  \n",
       "count        500.00  \n",
       "mean         164.84  \n",
       "std           33.55  \n",
       "min           60.00  \n",
       "25%          139.75  \n",
       "50%          166.00  \n",
       "75%          191.00  \n",
       "max          240.00  "
      ]
     },
     "execution_count": 32,
     "metadata": {},
     "output_type": "execute_result"
    }
   ],
   "source": [
    "coffee[continuous_features].describe().round(2)"
   ]
  },
  {
   "cell_type": "code",
   "execution_count": 33,
   "metadata": {
    "colab": {
     "base_uri": "https://localhost:8080/",
     "height": 287
    },
    "colab_type": "code",
    "id": "ke8DRz4UrbEc",
    "outputId": "8e670465-0c05-4644-a894-066059b2e132"
   },
   "outputs": [
    {
     "data": {
      "text/html": [
       "<div>\n",
       "<style scoped>\n",
       "    .dataframe tbody tr th:only-of-type {\n",
       "        vertical-align: middle;\n",
       "    }\n",
       "\n",
       "    .dataframe tbody tr th {\n",
       "        vertical-align: top;\n",
       "    }\n",
       "\n",
       "    .dataframe thead th {\n",
       "        text-align: right;\n",
       "    }\n",
       "</style>\n",
       "<table border=\"1\" class=\"dataframe\">\n",
       "  <thead>\n",
       "    <tr style=\"text-align: right;\">\n",
       "      <th></th>\n",
       "      <th>brewing_temp</th>\n",
       "      <th>coffee_amount</th>\n",
       "      <th>TDS</th>\n",
       "      <th>water_ph</th>\n",
       "      <th>plantation_height</th>\n",
       "      <th>brewing_time</th>\n",
       "    </tr>\n",
       "  </thead>\n",
       "  <tbody>\n",
       "    <tr>\n",
       "      <th>count</th>\n",
       "      <td>52.00</td>\n",
       "      <td>52.00</td>\n",
       "      <td>52.00</td>\n",
       "      <td>52.00</td>\n",
       "      <td>52.00</td>\n",
       "      <td>52.00</td>\n",
       "    </tr>\n",
       "    <tr>\n",
       "      <th>mean</th>\n",
       "      <td>91.38</td>\n",
       "      <td>6.47</td>\n",
       "      <td>0.12</td>\n",
       "      <td>6.02</td>\n",
       "      <td>1396.92</td>\n",
       "      <td>192.38</td>\n",
       "    </tr>\n",
       "    <tr>\n",
       "      <th>std</th>\n",
       "      <td>3.00</td>\n",
       "      <td>0.55</td>\n",
       "      <td>0.02</td>\n",
       "      <td>1.31</td>\n",
       "      <td>186.27</td>\n",
       "      <td>18.21</td>\n",
       "    </tr>\n",
       "    <tr>\n",
       "      <th>min</th>\n",
       "      <td>83.40</td>\n",
       "      <td>4.90</td>\n",
       "      <td>0.08</td>\n",
       "      <td>3.44</td>\n",
       "      <td>1070.00</td>\n",
       "      <td>153.00</td>\n",
       "    </tr>\n",
       "    <tr>\n",
       "      <th>25%</th>\n",
       "      <td>89.75</td>\n",
       "      <td>6.10</td>\n",
       "      <td>0.11</td>\n",
       "      <td>5.14</td>\n",
       "      <td>1257.50</td>\n",
       "      <td>178.75</td>\n",
       "    </tr>\n",
       "    <tr>\n",
       "      <th>50%</th>\n",
       "      <td>91.70</td>\n",
       "      <td>6.60</td>\n",
       "      <td>0.12</td>\n",
       "      <td>5.86</td>\n",
       "      <td>1380.00</td>\n",
       "      <td>192.00</td>\n",
       "    </tr>\n",
       "    <tr>\n",
       "      <th>75%</th>\n",
       "      <td>93.43</td>\n",
       "      <td>6.90</td>\n",
       "      <td>0.14</td>\n",
       "      <td>7.03</td>\n",
       "      <td>1525.00</td>\n",
       "      <td>203.75</td>\n",
       "    </tr>\n",
       "    <tr>\n",
       "      <th>max</th>\n",
       "      <td>97.10</td>\n",
       "      <td>7.50</td>\n",
       "      <td>0.20</td>\n",
       "      <td>8.65</td>\n",
       "      <td>1800.00</td>\n",
       "      <td>237.00</td>\n",
       "    </tr>\n",
       "  </tbody>\n",
       "</table>\n",
       "</div>"
      ],
      "text/plain": [
       "       brewing_temp  coffee_amount    TDS  water_ph  plantation_height  \\\n",
       "count         52.00          52.00  52.00     52.00              52.00   \n",
       "mean          91.38           6.47   0.12      6.02            1396.92   \n",
       "std            3.00           0.55   0.02      1.31             186.27   \n",
       "min           83.40           4.90   0.08      3.44            1070.00   \n",
       "25%           89.75           6.10   0.11      5.14            1257.50   \n",
       "50%           91.70           6.60   0.12      5.86            1380.00   \n",
       "75%           93.43           6.90   0.14      7.03            1525.00   \n",
       "max           97.10           7.50   0.20      8.65            1800.00   \n",
       "\n",
       "       brewing_time  \n",
       "count         52.00  \n",
       "mean         192.38  \n",
       "std           18.21  \n",
       "min          153.00  \n",
       "25%          178.75  \n",
       "50%          192.00  \n",
       "75%          203.75  \n",
       "max          237.00  "
      ]
     },
     "execution_count": 33,
     "metadata": {},
     "output_type": "execute_result"
    }
   ],
   "source": [
    "coffee[coffee.mark==1][continuous_features].describe().round(2)"
   ]
  },
  {
   "cell_type": "markdown",
   "metadata": {
    "colab_type": "text",
    "id": "8TvZF71UrtOZ"
   },
   "source": [
    "Coffee rated 1 can be characterized by:\n",
    "- below average coffee amount\n",
    "- below average plantation height\n",
    "- above average brewing time"
   ]
  },
  {
   "cell_type": "markdown",
   "metadata": {
    "colab_type": "text",
    "id": "_dMeTpF1GhE9"
   },
   "source": [
    "# How does the continuous features vary with the response variable ?"
   ]
  },
  {
   "cell_type": "code",
   "execution_count": 34,
   "metadata": {
    "colab": {
     "base_uri": "https://localhost:8080/",
     "height": 1000
    },
    "colab_type": "code",
    "id": "DqRUKAo1Gfn8",
    "outputId": "08ffeeb8-8578-48cc-c71c-b0000ca2a697"
   },
   "outputs": [
    {
     "data": {
      "image/png": "[encoded data removed]",
      "text/plain": [
       "<matplotlib.figure.Figure at 0xa9598a2c>"
      ]
     },
     "metadata": {},
     "output_type": "display_data"
    },
    {
     "data": {
      "image/png": "[encoded data removed]",
      "text/plain": [
       "<matplotlib.figure.Figure at 0xa94b1f0c>"
      ]
     },
     "metadata": {},
     "output_type": "display_data"
    },
    {
     "data": {
      "image/png": "[encoded data removed]",
      "text/plain": [
       "<matplotlib.figure.Figure at 0xa917748c>"
      ]
     },
     "metadata": {},
     "output_type": "display_data"
    },
    {
     "data": {
      "image/png": "[encoded data removed]",
      "text/plain": [
       "<matplotlib.figure.Figure at 0xa8fe962c>"
      ]
     },
     "metadata": {},
     "output_type": "display_data"
    },
    {
     "data": {
      "image/png": "[encoded data removed]",
      "text/plain": [
       "<matplotlib.figure.Figure at 0xa94e050c>"
      ]
     },
     "metadata": {},
     "output_type": "display_data"
    },
    {
     "data": {
      "image/png": "[encoded data removed]",
      "text/plain": [
       "<matplotlib.figure.Figure at 0xa963270c>"
      ]
     },
     "metadata": {},
     "output_type": "display_data"
    }
   ],
   "source": [
    "for cf in continuous_features:\n",
    "  g = sns.FacetGrid(coffee, col='mark')\n",
    "  g.map(plt.hist, cf)\n",
    "  plt.show()\n",
    "  "
   ]
  },
  {
   "cell_type": "markdown",
   "metadata": {
    "colab_type": "text",
    "id": "MLam8a6FChMy"
   },
   "source": [
    "# Looking at the distribution of categorical features"
   ]
  },
  {
   "cell_type": "code",
   "execution_count": 35,
   "metadata": {
    "colab": {
     "base_uri": "https://localhost:8080/",
     "height": 1000
    },
    "colab_type": "code",
    "id": "07eQ9ooAChMz",
    "outputId": "28d43826-fc06-4e85-bd93-d6dc197725fc"
   },
   "outputs": [
    {
     "data": {
      "image/png": "[encoded data removed]",
      "text/plain": [
       "<matplotlib.figure.Figure at 0xa8840aec>"
      ]
     },
     "metadata": {},
     "output_type": "display_data"
    },
    {
     "name": "stdout",
     "output_type": "stream",
     "text": [
      "\n"
     ]
    },
    {
     "data": {
      "image/png": "[encoded data removed]",
      "text/plain": [
       "<matplotlib.figure.Figure at 0xa881f86c>"
      ]
     },
     "metadata": {},
     "output_type": "display_data"
    },
    {
     "name": "stdout",
     "output_type": "stream",
     "text": [
      "\n"
     ]
    },
    {
     "data": {
      "image/png": "[encoded data removed]",
      "text/plain": [
       "<matplotlib.figure.Figure at 0xa880934c>"
      ]
     },
     "metadata": {},
     "output_type": "display_data"
    },
    {
     "name": "stdout",
     "output_type": "stream",
     "text": [
      "\n"
     ]
    }
   ],
   "source": [
    "for ct in cat_features:\n",
    "    plt.figure(figsize=(10,8))\n",
    "    coffee[ct].value_counts().plot.pie(autopct='%1.0f%%')\n",
    "    plt.title('Distribution of {}'.format(ct))\n",
    "    plt.ylabel('')\n",
    "    plt.axis('equal')\n",
    "    plt.show()\n",
    "    print()"
   ]
  },
  {
   "cell_type": "markdown",
   "metadata": {
    "colab_type": "text",
    "id": "WVSGHVJLChM7"
   },
   "source": [
    "How do categorical features vary with the response variable ?"
   ]
  },
  {
   "cell_type": "code",
   "execution_count": 36,
   "metadata": {
    "colab": {
     "base_uri": "https://localhost:8080/",
     "height": 1000
    },
    "colab_type": "code",
    "id": "s4e2NNJlChM9",
    "outputId": "8e06d134-d5a5-4727-fb79-c133b99581fe"
   },
   "outputs": [
    {
     "name": "stderr",
     "output_type": "stream",
     "text": [
      "/usr/lib/python3/dist-packages/seaborn/categorical.py:1460: FutureWarning: remove_na is deprecated and is a private function. Do not use.\n",
      "  stat_data = remove_na(group_data)\n"
     ]
    },
    {
     "data": {
      "image/png": "[encoded data removed]",
      "text/plain": [
       "<matplotlib.figure.Figure at 0xa8c63d2c>"
      ]
     },
     "metadata": {},
     "output_type": "display_data"
    },
    {
     "name": "stdout",
     "output_type": "stream",
     "text": [
      "\n"
     ]
    },
    {
     "data": {
      "image/png": "[encoded data removed]",
      "text/plain": [
       "<matplotlib.figure.Figure at 0xa8b23f6c>"
      ]
     },
     "metadata": {},
     "output_type": "display_data"
    },
    {
     "name": "stdout",
     "output_type": "stream",
     "text": [
      "\n"
     ]
    },
    {
     "data": {
      "image/png": "[encoded data removed]",
      "text/plain": [
       "<matplotlib.figure.Figure at 0xa9632dec>"
      ]
     },
     "metadata": {},
     "output_type": "display_data"
    },
    {
     "name": "stdout",
     "output_type": "stream",
     "text": [
      "\n"
     ]
    }
   ],
   "source": [
    "for ct in cat_features:\n",
    "    plt.figure(figsize=(10,8))\n",
    "    sns.barplot(x='mark',y=ct,data=coffee)\n",
    "    plt.show()\n",
    "    print()"
   ]
  },
  {
   "cell_type": "markdown",
   "metadata": {
    "colab_type": "text",
    "id": "vjQwHy1t3-Eq"
   },
   "source": [
    "We can see that all processing methods, except for 'Natural',yield the same mark on average."
   ]
  },
  {
   "cell_type": "markdown",
   "metadata": {
    "colab_type": "text",
    "id": "WebbsIzSChNL"
   },
   "source": [
    "How does the variable grinding level vary with the response variable mark ?"
   ]
  },
  {
   "cell_type": "code",
   "execution_count": 37,
   "metadata": {
    "colab": {
     "base_uri": "https://localhost:8080/",
     "height": 283
    },
    "colab_type": "code",
    "id": "hYa6EIk3ChNN",
    "outputId": "04d121e1-2b50-443f-e92f-1504171a48a8"
   },
   "outputs": [
    {
     "name": "stderr",
     "output_type": "stream",
     "text": [
      "/usr/lib/python3/dist-packages/seaborn/categorical.py:462: FutureWarning: remove_na is deprecated and is a private function. Do not use.\n",
      "  box_data = remove_na(group_data)\n"
     ]
    },
    {
     "data": {
      "image/png": "[encoded data removed]",
      "text/plain": [
       "<matplotlib.figure.Figure at 0xa96793cc>"
      ]
     },
     "metadata": {},
     "output_type": "display_data"
    }
   ],
   "source": [
    "sns.boxplot(x='mark',y='grinding_level',data=coffee)\n",
    "plt.show()"
   ]
  },
  {
   "cell_type": "markdown",
   "metadata": {
    "colab_type": "text",
    "id": "aZi5ZJRSu4mv"
   },
   "source": [
    "# Conclusions from Empirical Data Analysis\n",
    "In our EDA we have found that :\n",
    "\n",
    "Regarding coffee rated 5 :\n",
    "- On average, coffee rated 5 has higher coffee amount than coffee rated 1\n",
    "- The water ph in coffe rated 5 is higher than in coffee rated 1\n",
    "- Plantation height in coffee rated 5 is greater than in coffee rated 1\n",
    "- Coffee rated 5 has shorter brewing time than coffee rated 1\n",
    "\n",
    "To the lesser extent the same 4 observations holds true when we compare general coffee with coffee of rating 5.\n",
    "\n",
    "Regarding coffee rated 4 :\n",
    "\n",
    "Coffee rated 4 has:\n",
    "- below average brewing_temp\n",
    "- below average coffee amount\n",
    "- below average plantation height\n",
    "- below average brewing_time\n",
    "\n",
    "Regarding coffee rated 3 :\n",
    "\n",
    "coffee rated 3 has :\n",
    "- above average brewing_temp\n",
    "- above average coffee_amount\n",
    "- above average water_ph\n",
    "- above average plantation_height\n",
    "\n",
    "Regarding coffee rated 2 :\n",
    "\n",
    "Coffee rated 2 has :\n",
    "- below average brewing_temp\n",
    "- above average coffee_amount\n",
    "- below average plantation_height\n",
    "\n",
    "Regarding coffee rated 1 :\n",
    "\n",
    "Coffee rated 1 can be characterized by:\n",
    "- below average coffee amount\n",
    "- below average plantation height\n",
    "- above average brewing time\n",
    "\n"
   ]
  },
  {
   "cell_type": "markdown",
   "metadata": {
    "colab_type": "text",
    "id": "VWPYvmGoChNY"
   },
   "source": [
    "# encoding categorical data"
   ]
  },
  {
   "cell_type": "markdown",
   "metadata": {
    "colab_type": "text",
    "id": "LjXOLaBsyLSB"
   },
   "source": [
    "Procesing methods other than ''Natural\" have the same marks on average, hence we will encode \"Natural\" as 1 end all else as 0."
   ]
  },
  {
   "cell_type": "code",
   "execution_count": 38,
   "metadata": {
    "colab": {},
    "colab_type": "code",
    "id": "kclzWHyC8CCD"
   },
   "outputs": [],
   "source": [
    "coffee['natural_processing']=[1 if m=='Natural' else 0 for m in coffee.processing_method]\n",
    "del coffee['processing_method']"
   ]
  },
  {
   "cell_type": "code",
   "execution_count": 39,
   "metadata": {
    "colab": {},
    "colab_type": "code",
    "id": "Mbk45nTzTmj5"
   },
   "outputs": [],
   "source": [
    "def one_hot_encoder(df_column,what_is_1):\n",
    "\toutput=[]\n",
    "\tfor row in df_column:\n",
    "\t\tif row==what_is_1:\n",
    "\t\t\toutput.append(1)\n",
    "\t\telse:\n",
    "\t\t\toutput.append(0)\n",
    "\treturn output\n",
    "\n",
    "def one_hot_caller(df_column,set_of_categories):\n",
    "\tcat_columns_encoded={}\n",
    "\tfor thing in set_of_categories:\n",
    "\t\tcat_columns_encoded[thing]=one_hot_encoder(df_column,thing)\n",
    "\treturn cat_columns_encoded\n",
    "\n",
    "def get_distinct_values_from_column(df_column):\n",
    "\tdistinct_df_column=list(set([row for row in df_column]))\n",
    "\treturn distinct_df_column\n",
    "\n",
    "def call_one_hot_caller(df_column):\n",
    "\tdistinct=get_distinct_values_from_column(df_column=df_column)\n",
    "\treturn one_hot_caller(df_column,distinct)\n",
    "        \n",
    "def encode_and_implement_in_df(df,df_column):\n",
    "    for key,value in call_one_hot_caller(df_column).items():\n",
    "        df[key]=value\n",
    "    return df\n",
    "\n",
    "def encode_implement_all(df,list_of_columns_to_encode):\n",
    "    '''\n",
    "    Returns a dataframe with categorical variables encoded as binary variables\n",
    "    \n",
    "    '''\n",
    "    \n",
    "    '''\n",
    "    Parameters\n",
    "    \n",
    "    The functions takes as arguments the df\n",
    "    and a list of df columns (pandas series) to encode\n",
    "    \n",
    "    '''\n",
    "    for column in list_of_columns_to_encode:\n",
    "        encode_and_implement_in_df(df,column)\n",
    "    for i in list_of_columns_to_encode:\n",
    "        try :\n",
    "            del df[str(i.name)]\n",
    "        \n",
    "        except Exception:\n",
    "            pass\n",
    "    \n",
    "    return df"
   ]
  },
  {
   "cell_type": "code",
   "execution_count": 40,
   "metadata": {
    "colab": {},
    "colab_type": "code",
    "id": "_5HrWyTl4lvq"
   },
   "outputs": [],
   "source": [
    "names_of_columns_to_encode=['region','preinfusion']"
   ]
  },
  {
   "cell_type": "code",
   "execution_count": 41,
   "metadata": {
    "colab": {},
    "colab_type": "code",
    "id": "cLyUHwlLChNa"
   },
   "outputs": [],
   "source": [
    "df=encode_implement_all(coffee,[coffee[nocte] for nocte in names_of_columns_to_encode])"
   ]
  },
  {
   "cell_type": "code",
   "execution_count": 42,
   "metadata": {
    "colab": {
     "base_uri": "https://localhost:8080/",
     "height": 217
    },
    "colab_type": "code",
    "id": "lTDrS6m8ZnDr",
    "outputId": "c7837694-778e-48fa-cbbe-63f7244b5a46"
   },
   "outputs": [
    {
     "data": {
      "text/html": [
       "<div>\n",
       "<style scoped>\n",
       "    .dataframe tbody tr th:only-of-type {\n",
       "        vertical-align: middle;\n",
       "    }\n",
       "\n",
       "    .dataframe tbody tr th {\n",
       "        vertical-align: top;\n",
       "    }\n",
       "\n",
       "    .dataframe thead th {\n",
       "        text-align: right;\n",
       "    }\n",
       "</style>\n",
       "<table border=\"1\" class=\"dataframe\">\n",
       "  <thead>\n",
       "    <tr style=\"text-align: right;\">\n",
       "      <th></th>\n",
       "      <th>brewing_temp</th>\n",
       "      <th>coffee_amount</th>\n",
       "      <th>grinding_level</th>\n",
       "      <th>TDS</th>\n",
       "      <th>water_ph</th>\n",
       "      <th>plantation_height</th>\n",
       "      <th>brewing_time</th>\n",
       "      <th>mark</th>\n",
       "      <th>natural_processing</th>\n",
       "      <th>Panama</th>\n",
       "      <th>Kenya</th>\n",
       "      <th>Ethiopia</th>\n",
       "      <th>Guatemala</th>\n",
       "      <th>Rwanda</th>\n",
       "      <th>Honduras</th>\n",
       "      <th>Colombia</th>\n",
       "      <th>Brazil</th>\n",
       "      <th>0.0</th>\n",
       "      <th>1.0</th>\n",
       "      <th>unknown</th>\n",
       "    </tr>\n",
       "  </thead>\n",
       "  <tbody>\n",
       "    <tr>\n",
       "      <th>0</th>\n",
       "      <td>91.1</td>\n",
       "      <td>6.9</td>\n",
       "      <td>7.0</td>\n",
       "      <td>0.12</td>\n",
       "      <td>6.67</td>\n",
       "      <td>1710.0</td>\n",
       "      <td>189.0</td>\n",
       "      <td>3</td>\n",
       "      <td>0</td>\n",
       "      <td>1</td>\n",
       "      <td>0</td>\n",
       "      <td>0</td>\n",
       "      <td>0</td>\n",
       "      <td>0</td>\n",
       "      <td>0</td>\n",
       "      <td>0</td>\n",
       "      <td>0</td>\n",
       "      <td>1</td>\n",
       "      <td>0</td>\n",
       "      <td>0</td>\n",
       "    </tr>\n",
       "    <tr>\n",
       "      <th>1</th>\n",
       "      <td>94.0</td>\n",
       "      <td>5.9</td>\n",
       "      <td>2.0</td>\n",
       "      <td>0.14</td>\n",
       "      <td>3.00</td>\n",
       "      <td>1530.0</td>\n",
       "      <td>95.0</td>\n",
       "      <td>3</td>\n",
       "      <td>0</td>\n",
       "      <td>1</td>\n",
       "      <td>0</td>\n",
       "      <td>0</td>\n",
       "      <td>0</td>\n",
       "      <td>0</td>\n",
       "      <td>0</td>\n",
       "      <td>0</td>\n",
       "      <td>0</td>\n",
       "      <td>0</td>\n",
       "      <td>0</td>\n",
       "      <td>1</td>\n",
       "    </tr>\n",
       "    <tr>\n",
       "      <th>2</th>\n",
       "      <td>91.6</td>\n",
       "      <td>7.0</td>\n",
       "      <td>4.0</td>\n",
       "      <td>0.13</td>\n",
       "      <td>5.51</td>\n",
       "      <td>1370.0</td>\n",
       "      <td>147.0</td>\n",
       "      <td>3</td>\n",
       "      <td>0</td>\n",
       "      <td>0</td>\n",
       "      <td>0</td>\n",
       "      <td>0</td>\n",
       "      <td>0</td>\n",
       "      <td>0</td>\n",
       "      <td>0</td>\n",
       "      <td>1</td>\n",
       "      <td>0</td>\n",
       "      <td>1</td>\n",
       "      <td>0</td>\n",
       "      <td>0</td>\n",
       "    </tr>\n",
       "    <tr>\n",
       "      <th>3</th>\n",
       "      <td>92.3</td>\n",
       "      <td>6.9</td>\n",
       "      <td>4.0</td>\n",
       "      <td>0.13</td>\n",
       "      <td>7.11</td>\n",
       "      <td>1630.0</td>\n",
       "      <td>158.0</td>\n",
       "      <td>3</td>\n",
       "      <td>0</td>\n",
       "      <td>0</td>\n",
       "      <td>0</td>\n",
       "      <td>0</td>\n",
       "      <td>0</td>\n",
       "      <td>1</td>\n",
       "      <td>0</td>\n",
       "      <td>0</td>\n",
       "      <td>0</td>\n",
       "      <td>1</td>\n",
       "      <td>0</td>\n",
       "      <td>0</td>\n",
       "    </tr>\n",
       "    <tr>\n",
       "      <th>4</th>\n",
       "      <td>98.9</td>\n",
       "      <td>9.5</td>\n",
       "      <td>3.0</td>\n",
       "      <td>0.11</td>\n",
       "      <td>6.06</td>\n",
       "      <td>1400.0</td>\n",
       "      <td>178.0</td>\n",
       "      <td>3</td>\n",
       "      <td>0</td>\n",
       "      <td>1</td>\n",
       "      <td>0</td>\n",
       "      <td>0</td>\n",
       "      <td>0</td>\n",
       "      <td>0</td>\n",
       "      <td>0</td>\n",
       "      <td>0</td>\n",
       "      <td>0</td>\n",
       "      <td>0</td>\n",
       "      <td>0</td>\n",
       "      <td>1</td>\n",
       "    </tr>\n",
       "  </tbody>\n",
       "</table>\n",
       "</div>"
      ],
      "text/plain": [
       "   brewing_temp  coffee_amount  grinding_level   TDS  water_ph  \\\n",
       "0          91.1            6.9             7.0  0.12      6.67   \n",
       "1          94.0            5.9             2.0  0.14      3.00   \n",
       "2          91.6            7.0             4.0  0.13      5.51   \n",
       "3          92.3            6.9             4.0  0.13      7.11   \n",
       "4          98.9            9.5             3.0  0.11      6.06   \n",
       "\n",
       "   plantation_height  brewing_time  mark  natural_processing  Panama  Kenya  \\\n",
       "0             1710.0         189.0     3                   0       1      0   \n",
       "1             1530.0          95.0     3                   0       1      0   \n",
       "2             1370.0         147.0     3                   0       0      0   \n",
       "3             1630.0         158.0     3                   0       0      0   \n",
       "4             1400.0         178.0     3                   0       1      0   \n",
       "\n",
       "   Ethiopia  Guatemala  Rwanda  Honduras  Colombia  Brazil  0.0  1.0  unknown  \n",
       "0         0          0       0         0         0       0    1    0        0  \n",
       "1         0          0       0         0         0       0    0    0        1  \n",
       "2         0          0       0         0         1       0    1    0        0  \n",
       "3         0          0       1         0         0       0    1    0        0  \n",
       "4         0          0       0         0         0       0    0    0        1  "
      ]
     },
     "execution_count": 42,
     "metadata": {},
     "output_type": "execute_result"
    }
   ],
   "source": [
    "df.head()"
   ]
  },
  {
   "cell_type": "markdown",
   "metadata": {
    "colab_type": "text",
    "id": "p1yMT2lnucO5"
   },
   "source": [
    "Categorizing countries :"
   ]
  },
  {
   "cell_type": "code",
   "execution_count": 43,
   "metadata": {
    "colab": {},
    "colab_type": "code",
    "id": "pCC9pOzvvXB7"
   },
   "outputs": [],
   "source": [
    "df['south_america']=[1 if (g+b+p+h+c)>0 else 0 for g,b,p,h,c in zip(df.Guatemala,df.Brazil,df.Panama,df.Honduras,df.Colombia)]\n",
    "df['africa']=[1 if (k+e+r)>0 else 0 for k,e,r in zip(df.Kenya,df.Ethiopia,df.Rwanda)]\n",
    "df['other_countries']=[1 if (e+h+b+g)>0 else 0 for e,h,b,g in zip(df.Ethiopia,df.Honduras,df.Brazil,df.Guatemala)]\n",
    "underrepresented_countries=['Ethiopia','Honduras','Brazil','Guatemala']\n",
    "for uc in underrepresented_countries:\n",
    "  try:\n",
    "    del df[uc]\n",
    "  except Exception:\n",
    "    pass"
   ]
  },
  {
   "cell_type": "markdown",
   "metadata": {
    "colab_type": "text",
    "id": "PXuCdWNQFPBs"
   },
   "source": [
    "Creating additional features based on insights from EDA :"
   ]
  },
  {
   "cell_type": "code",
   "execution_count": 44,
   "metadata": {
    "colab": {},
    "colab_type": "code",
    "id": "h2RwpuybFSID"
   },
   "outputs": [],
   "source": [
    "# creating feature 'above_avg_coffee_amount'\n",
    "mean_coffee=df.coffee_amount.mean()\n",
    "above_avg_coffee_amount=[1 if v>mean_coffee else 0 for v in df.coffee_amount]\n",
    "df['above_avg_coffee_amount']=above_avg_coffee_amount\n",
    "\n",
    "# creating feature 'above_avg_water_ph'\n",
    "mean_ph=df.water_ph.mean()\n",
    "above_avg_water_ph=[1 if v>mean_ph else 0 for v in df.water_ph]\n",
    "df['above_avg_water_ph']=above_avg_water_ph\n",
    "\n",
    "# creating feature 'above_avg_plantation_height'\n",
    "mean_height=df.plantation_height.mean()\n",
    "above_avg_pantation_height=[1 if v>mean_height else 0 for v in df.plantation_height]\n",
    "df['above_avg_pantation_height']=above_avg_pantation_height\n",
    "\n",
    "# creating feature 'below_avg_brewing_time'\n",
    "mean_time=df.brewing_time.mean()\n",
    "below_avg_brewing_time=[1 if v<mean_time else 0 for v in df.brewing_time]\n",
    "df['below_avg_brewing_time']=below_avg_brewing_time\n",
    "\n",
    "# creating feature 'above_avg_brewing_temp'\n",
    "mean_temp=df.brewing_temp.mean()\n",
    "above_avg_brewing_temp=[1 if v<mean_temp else 0 for v in df.brewing_temp]\n",
    "df['above_avg_brewing_temp']=above_avg_brewing_temp\n",
    "\n",
    "# creating feature 'more_coffee_than_lowest_rating'\n",
    "mean_amount_worst=df[df.mark==1].coffee_amount.mean()\n",
    "more_coffee_than_lowest_rating=[1 if v>mean_amount_worst else 0 for v in df.coffee_amount]\n",
    "df['more_coffee_than_lowest_rating']=more_coffee_than_lowest_rating\n",
    "\n",
    "# creating feature 'higher_ph_than_lowest_rating'\n",
    "mean_ph_worst=df[df.mark==1].water_ph.mean()\n",
    "higher_ph_than_lowest_rating=[1 if v>mean_ph_worst else 0 for v in df.water_ph]\n",
    "df['higher_ph_than_lowest_rating']=higher_ph_than_lowest_rating\n",
    "\n",
    "# creating feature 'greater_elevation_than_lowest_rating'\n",
    "mean_height_worst=df[df.mark==1].plantation_height.mean()\n",
    "greater_elevation_than_lowest_rating=[1 if v>mean_height_worst else 0 for v in df.plantation_height]\n",
    "df['greater_elevation_than_lowest_rating']=greater_elevation_than_lowest_rating\n",
    "\n",
    "# creating feature 'shorter_brewing_time_than_lowest_rating'\n",
    "mean_time_worst=df[df.mark==1].brewing_time.mean()\n",
    "shorter_brewing_time_than_lowest_rating=[1 if v<mean_time_worst else 0 for v in df.brewing_time]\n",
    "df['shorter_brewing_time_than_lowest_rating']=shorter_brewing_time_than_lowest_rating"
   ]
  },
  {
   "cell_type": "code",
   "execution_count": 45,
   "metadata": {
    "colab": {
     "base_uri": "https://localhost:8080/",
     "height": 224
    },
    "colab_type": "code",
    "id": "hntyAZxZ9kwL",
    "outputId": "ba43ade4-eae9-499d-d3ae-215edac3a0f6"
   },
   "outputs": [
    {
     "data": {
      "text/html": [
       "<div>\n",
       "<style scoped>\n",
       "    .dataframe tbody tr th:only-of-type {\n",
       "        vertical-align: middle;\n",
       "    }\n",
       "\n",
       "    .dataframe tbody tr th {\n",
       "        vertical-align: top;\n",
       "    }\n",
       "\n",
       "    .dataframe thead th {\n",
       "        text-align: right;\n",
       "    }\n",
       "</style>\n",
       "<table border=\"1\" class=\"dataframe\">\n",
       "  <thead>\n",
       "    <tr style=\"text-align: right;\">\n",
       "      <th></th>\n",
       "      <th>brewing_temp</th>\n",
       "      <th>coffee_amount</th>\n",
       "      <th>grinding_level</th>\n",
       "      <th>TDS</th>\n",
       "      <th>water_ph</th>\n",
       "      <th>plantation_height</th>\n",
       "      <th>brewing_time</th>\n",
       "      <th>mark</th>\n",
       "      <th>natural_processing</th>\n",
       "      <th>Panama</th>\n",
       "      <th>...</th>\n",
       "      <th>other_countries</th>\n",
       "      <th>above_avg_coffee_amount</th>\n",
       "      <th>above_avg_water_ph</th>\n",
       "      <th>above_avg_pantation_height</th>\n",
       "      <th>below_avg_brewing_time</th>\n",
       "      <th>above_avg_brewing_temp</th>\n",
       "      <th>more_coffee_than_lowest_rating</th>\n",
       "      <th>higher_ph_than_lowest_rating</th>\n",
       "      <th>greater_elevation_than_lowest_rating</th>\n",
       "      <th>shorter_brewing_time_than_lowest_rating</th>\n",
       "    </tr>\n",
       "  </thead>\n",
       "  <tbody>\n",
       "    <tr>\n",
       "      <th>0</th>\n",
       "      <td>91.1</td>\n",
       "      <td>6.9</td>\n",
       "      <td>7.0</td>\n",
       "      <td>0.12</td>\n",
       "      <td>6.67</td>\n",
       "      <td>1710.0</td>\n",
       "      <td>189.0</td>\n",
       "      <td>3</td>\n",
       "      <td>0</td>\n",
       "      <td>1</td>\n",
       "      <td>...</td>\n",
       "      <td>0</td>\n",
       "      <td>0</td>\n",
       "      <td>1</td>\n",
       "      <td>1</td>\n",
       "      <td>0</td>\n",
       "      <td>1</td>\n",
       "      <td>1</td>\n",
       "      <td>1</td>\n",
       "      <td>1</td>\n",
       "      <td>1</td>\n",
       "    </tr>\n",
       "    <tr>\n",
       "      <th>1</th>\n",
       "      <td>94.0</td>\n",
       "      <td>5.9</td>\n",
       "      <td>2.0</td>\n",
       "      <td>0.14</td>\n",
       "      <td>3.00</td>\n",
       "      <td>1530.0</td>\n",
       "      <td>95.0</td>\n",
       "      <td>3</td>\n",
       "      <td>0</td>\n",
       "      <td>1</td>\n",
       "      <td>...</td>\n",
       "      <td>0</td>\n",
       "      <td>0</td>\n",
       "      <td>0</td>\n",
       "      <td>1</td>\n",
       "      <td>1</td>\n",
       "      <td>0</td>\n",
       "      <td>0</td>\n",
       "      <td>0</td>\n",
       "      <td>1</td>\n",
       "      <td>1</td>\n",
       "    </tr>\n",
       "    <tr>\n",
       "      <th>2</th>\n",
       "      <td>91.6</td>\n",
       "      <td>7.0</td>\n",
       "      <td>4.0</td>\n",
       "      <td>0.13</td>\n",
       "      <td>5.51</td>\n",
       "      <td>1370.0</td>\n",
       "      <td>147.0</td>\n",
       "      <td>3</td>\n",
       "      <td>0</td>\n",
       "      <td>0</td>\n",
       "      <td>...</td>\n",
       "      <td>0</td>\n",
       "      <td>1</td>\n",
       "      <td>0</td>\n",
       "      <td>0</td>\n",
       "      <td>1</td>\n",
       "      <td>0</td>\n",
       "      <td>1</td>\n",
       "      <td>0</td>\n",
       "      <td>0</td>\n",
       "      <td>1</td>\n",
       "    </tr>\n",
       "    <tr>\n",
       "      <th>3</th>\n",
       "      <td>92.3</td>\n",
       "      <td>6.9</td>\n",
       "      <td>4.0</td>\n",
       "      <td>0.13</td>\n",
       "      <td>7.11</td>\n",
       "      <td>1630.0</td>\n",
       "      <td>158.0</td>\n",
       "      <td>3</td>\n",
       "      <td>0</td>\n",
       "      <td>0</td>\n",
       "      <td>...</td>\n",
       "      <td>0</td>\n",
       "      <td>0</td>\n",
       "      <td>1</td>\n",
       "      <td>1</td>\n",
       "      <td>1</td>\n",
       "      <td>0</td>\n",
       "      <td>1</td>\n",
       "      <td>1</td>\n",
       "      <td>1</td>\n",
       "      <td>1</td>\n",
       "    </tr>\n",
       "    <tr>\n",
       "      <th>4</th>\n",
       "      <td>98.9</td>\n",
       "      <td>9.5</td>\n",
       "      <td>3.0</td>\n",
       "      <td>0.11</td>\n",
       "      <td>6.06</td>\n",
       "      <td>1400.0</td>\n",
       "      <td>178.0</td>\n",
       "      <td>3</td>\n",
       "      <td>0</td>\n",
       "      <td>1</td>\n",
       "      <td>...</td>\n",
       "      <td>0</td>\n",
       "      <td>1</td>\n",
       "      <td>0</td>\n",
       "      <td>0</td>\n",
       "      <td>0</td>\n",
       "      <td>0</td>\n",
       "      <td>1</td>\n",
       "      <td>1</td>\n",
       "      <td>1</td>\n",
       "      <td>1</td>\n",
       "    </tr>\n",
       "  </tbody>\n",
       "</table>\n",
       "<p>5 rows × 28 columns</p>\n",
       "</div>"
      ],
      "text/plain": [
       "   brewing_temp  coffee_amount  grinding_level   TDS  water_ph  \\\n",
       "0          91.1            6.9             7.0  0.12      6.67   \n",
       "1          94.0            5.9             2.0  0.14      3.00   \n",
       "2          91.6            7.0             4.0  0.13      5.51   \n",
       "3          92.3            6.9             4.0  0.13      7.11   \n",
       "4          98.9            9.5             3.0  0.11      6.06   \n",
       "\n",
       "   plantation_height  brewing_time  mark  natural_processing  Panama  \\\n",
       "0             1710.0         189.0     3                   0       1   \n",
       "1             1530.0          95.0     3                   0       1   \n",
       "2             1370.0         147.0     3                   0       0   \n",
       "3             1630.0         158.0     3                   0       0   \n",
       "4             1400.0         178.0     3                   0       1   \n",
       "\n",
       "                    ...                     other_countries  \\\n",
       "0                   ...                                   0   \n",
       "1                   ...                                   0   \n",
       "2                   ...                                   0   \n",
       "3                   ...                                   0   \n",
       "4                   ...                                   0   \n",
       "\n",
       "   above_avg_coffee_amount  above_avg_water_ph  above_avg_pantation_height  \\\n",
       "0                        0                   1                           1   \n",
       "1                        0                   0                           1   \n",
       "2                        1                   0                           0   \n",
       "3                        0                   1                           1   \n",
       "4                        1                   0                           0   \n",
       "\n",
       "   below_avg_brewing_time  above_avg_brewing_temp  \\\n",
       "0                       0                       1   \n",
       "1                       1                       0   \n",
       "2                       1                       0   \n",
       "3                       1                       0   \n",
       "4                       0                       0   \n",
       "\n",
       "   more_coffee_than_lowest_rating  higher_ph_than_lowest_rating  \\\n",
       "0                               1                             1   \n",
       "1                               0                             0   \n",
       "2                               1                             0   \n",
       "3                               1                             1   \n",
       "4                               1                             1   \n",
       "\n",
       "   greater_elevation_than_lowest_rating  \\\n",
       "0                                     1   \n",
       "1                                     1   \n",
       "2                                     0   \n",
       "3                                     1   \n",
       "4                                     1   \n",
       "\n",
       "   shorter_brewing_time_than_lowest_rating  \n",
       "0                                        1  \n",
       "1                                        1  \n",
       "2                                        1  \n",
       "3                                        1  \n",
       "4                                        1  \n",
       "\n",
       "[5 rows x 28 columns]"
      ]
     },
     "execution_count": 45,
     "metadata": {},
     "output_type": "execute_result"
    }
   ],
   "source": [
    "df.head()"
   ]
  },
  {
   "cell_type": "markdown",
   "metadata": {
    "colab_type": "text",
    "id": "kekMTnwXChNn"
   },
   "source": [
    "# Splitting the data into train,validation and test set"
   ]
  },
  {
   "cell_type": "code",
   "execution_count": 46,
   "metadata": {
    "colab": {},
    "colab_type": "code",
    "id": "W_NnlLt4T9ay"
   },
   "outputs": [],
   "source": [
    "def train_val_test_split(df,frac_train,frac_val):\n",
    "  '''\n",
    "  Returns 3 dataframes corresponding to train,validation and test set\n",
    "  \n",
    "  '''\n",
    "  \n",
    "  '''\n",
    "  Parameters :\n",
    "  df - dataset in pandas DataFrame format,\n",
    "  frac_train - float between 0 and 1, e.g. 0.6\n",
    "  frac_val - float between 0 and 1, e.g. 0.2\n",
    "   \n",
    "  '''\n",
    "  \n",
    "  original_length = len(df)\n",
    "  train_set = df.sample(frac = frac_train)\n",
    "  df = df.drop(train_set.index)\n",
    "  frac_val = frac_val * original_length / len(df)\n",
    "  validation_set = df.sample(frac = frac_val)\n",
    "  df = df.drop(validation_set.index)\n",
    "  percent_test = 1 - frac_train-frac_val\n",
    "  test_set = df\n",
    "\n",
    "  return train_set, validation_set, test_set\n",
    "  \n",
    "    "
   ]
  },
  {
   "cell_type": "code",
   "execution_count": 47,
   "metadata": {
    "colab": {},
    "colab_type": "code",
    "id": "c1x0Kv7kChNq"
   },
   "outputs": [],
   "source": [
    "X_train,X_val,X_test=train_val_test_split(df,0.6,0.2)"
   ]
  },
  {
   "cell_type": "code",
   "execution_count": 48,
   "metadata": {
    "colab": {},
    "colab_type": "code",
    "id": "gadhE1sNChNv"
   },
   "outputs": [],
   "source": [
    "y_train=pd.DataFrame(X_train['mark'],columns=['mark'])\n",
    "del X_train['mark']"
   ]
  },
  {
   "cell_type": "code",
   "execution_count": 49,
   "metadata": {
    "colab": {},
    "colab_type": "code",
    "id": "ZqyAVyG4ChN1"
   },
   "outputs": [],
   "source": [
    "y_val=pd.DataFrame(X_val['mark'],columns=['mark'])\n",
    "del X_val['mark']"
   ]
  },
  {
   "cell_type": "code",
   "execution_count": 50,
   "metadata": {
    "colab": {},
    "colab_type": "code",
    "id": "wf-V0tVhChN5"
   },
   "outputs": [],
   "source": [
    "y_test=pd.DataFrame(X_test['mark'],columns=['mark'])\n",
    "del X_test['mark']"
   ]
  },
  {
   "cell_type": "code",
   "execution_count": 51,
   "metadata": {
    "colab": {},
    "colab_type": "code",
    "id": "FU1JM_FgC_fh"
   },
   "outputs": [],
   "source": [
    "import warnings\n",
    "warnings.filterwarnings(\"ignore\", category=FutureWarning)"
   ]
  },
  {
   "cell_type": "markdown",
   "metadata": {
    "colab_type": "text",
    "id": "8jS9PYnSvgAu"
   },
   "source": [
    "# Making predictions with Random Forest"
   ]
  },
  {
   "cell_type": "code",
   "execution_count": 52,
   "metadata": {
    "colab": {
     "base_uri": "https://localhost:8080/",
     "height": 34
    },
    "colab_type": "code",
    "id": "AFrkUeQvvp6c",
    "outputId": "ffa5f7a1-b794-4d08-f07a-8f2c353a2a69"
   },
   "outputs": [
    {
     "name": "stdout",
     "output_type": "stream",
     "text": [
      "Train accuracy is 0.98 whereas validation set accuracy is 0.69\n"
     ]
    }
   ],
   "source": [
    "np.random.seed(0)\n",
    "\n",
    "rf = RandomForestClassifier(random_state = 123)\n",
    "rf.fit(X_train,y_train.values.ravel())\n",
    "predictions = rf.predict(X_val)\n",
    "parapredictions = rf.predict(X_train)\n",
    "vacc = accuracy_score(predictions,y_val)\n",
    "tracc = accuracy_score(parapredictions,y_train)\n",
    "print('Train accuracy is {} whereas validation set accuracy is {}'.format(tracc,vacc))"
   ]
  },
  {
   "cell_type": "markdown",
   "metadata": {
    "colab_type": "text",
    "id": "HIvf7WyNycOj"
   },
   "source": [
    "The model is clearly overfitting. Let's see how the amount of data affects the difference between training and validation accuracy by plotting learning curves."
   ]
  },
  {
   "cell_type": "code",
   "execution_count": 53,
   "metadata": {
    "colab": {},
    "colab_type": "code",
    "id": "JOA7c4pnUX4l"
   },
   "outputs": [],
   "source": [
    "def plot_learning_curves(algorithm_str,X_train,y_train,X_val,y_val,increment):\n",
    "\t\n",
    "\tmodel=eval(algorithm_str)\n",
    "\n",
    "\ttrain_accuracies=[]\n",
    "\tvalidation_accuracies=[]\n",
    "\tobservations=list(range(0,len(X_train),increment))\n",
    "\t\n",
    "\t\n",
    "\tfor i in range(1,len(X_train),increment):\n",
    "\t\tmodel.fit(X_train.iloc[:i,:],y_train.iloc[:i].values.ravel())\n",
    "\t\tpredictions=model.predict(X_train.iloc[:i,:])\n",
    "\t\taccuracy=accuracy_score(y_train.iloc[:i].values.ravel(),predictions)\n",
    "\t\ttrain_accuracies.append(accuracy)\n",
    "\t\tvalidation_preds=model.predict(X_val)\n",
    "\t\tval_accuracy=accuracy_score(y_val.values.ravel(),validation_preds)\n",
    "\t\tvalidation_accuracies.append(val_accuracy)\n",
    "\n",
    "\tnum_observations=len(X_train)\n",
    "\t\n",
    "\tdf=pd.DataFrame()\n",
    "\tdf['observations']=observations\n",
    "\tdf['train_accuracy']=train_accuracies\n",
    "\tdf['validation_accuracy']=validation_accuracies\n",
    "\tax=df.plot(x='observations',figsize=(12,9),grid=True,xticks=[xt for xt in range(1,num_observations,increment)]\\\n",
    "             ,yticks=[yt/10 for yt in range(1,11)])\n",
    "\tax.legend(loc='lower right')\n",
    "\tplt.title('train accuracy vs validation accuracy')\n",
    "\tplt.ylabel('accuracy')\n",
    "\tplt.xlabel('number of observations in training data')\n",
    "\tplt.show()"
   ]
  },
  {
   "cell_type": "code",
   "execution_count": 54,
   "metadata": {
    "colab": {
     "base_uri": "https://localhost:8080/",
     "height": 566
    },
    "colab_type": "code",
    "id": "Hl9FbAxTxwKG",
    "outputId": "8fd0c9e9-fe71-4e4e-b5e3-daf38cc12a0e"
   },
   "outputs": [
    {
     "data": {
      "image/png": "[encoded data removed]",
      "text/plain": [
       "<matplotlib.figure.Figure at 0xa96662cc>"
      ]
     },
     "metadata": {},
     "output_type": "display_data"
    }
   ],
   "source": [
    "np.random.seed(0)\n",
    "\n",
    "plot_learning_curves('RandomForestClassifier(random_state = 123)',X_train,y_train,X_val,y_val,20)"
   ]
  },
  {
   "cell_type": "markdown",
   "metadata": {
    "colab_type": "text",
    "id": "adHHMmyMQlTd"
   },
   "source": [
    "# Adressing overfitting"
   ]
  },
  {
   "cell_type": "markdown",
   "metadata": {
    "colab_type": "text",
    "id": "-z1OFAHV-vy3"
   },
   "source": [
    "We will plot the effect of changing each hyperparameter on the train and validation accuracy.\n",
    "That would enable us to narrow down the range of values to search through when looking for the best parameters of a model."
   ]
  },
  {
   "cell_type": "code",
   "execution_count": 61,
   "metadata": {
    "colab": {},
    "colab_type": "code",
    "id": "lS8w_29hzZBF"
   },
   "outputs": [],
   "source": [
    "max_leaf_nodes_values = [mln for mln in range(2,31)]\n",
    "min_samples_leaf_values = [msl for msl in range(2,101)]\n",
    "max_features_values = [mf for mf in range(2,28)]\n",
    "min_samples_split_values = [mss for mss in range(2,101)]\n",
    "n_estimators_values = [ne * 10 for ne in range(1,36)]"
   ]
  },
  {
   "cell_type": "code",
   "execution_count": 62,
   "metadata": {
    "colab": {
     "base_uri": "https://localhost:8080/",
     "height": 550
    },
    "colab_type": "code",
    "id": "ztLqDsDBzVX6",
    "outputId": "fde54dcb-262a-46ca-c627-ec5a484c6676"
   },
   "outputs": [
    {
     "data": {
      "image/png": "[encoded data removed]",
      "text/plain": [
       "<matplotlib.figure.Figure at 0xa92e660c>"
      ]
     },
     "metadata": {},
     "output_type": "display_data"
    }
   ],
   "source": [
    "plot_hyperparameters_effects('RandomForestClassifier(random_state=123,)',X_train,y_train,X_val,y_val,\\\n",
    "                             'max_leaf_nodes','min_samples_leaf',\\\n",
    "                            max_leaf_nodes_values,min_samples_leaf_values)"
   ]
  },
  {
   "cell_type": "code",
   "execution_count": 63,
   "metadata": {
    "colab": {
     "base_uri": "https://localhost:8080/",
     "height": 816
    },
    "colab_type": "code",
    "id": "ueNsn6yc2bu5",
    "outputId": "4cebd31a-abe7-4c89-ed66-32a4a8e2a940"
   },
   "outputs": [
    {
     "data": {
      "image/png": "[encoded data removed]",
      "text/plain": [
       "<matplotlib.figure.Figure at 0xa95285cc>"
      ]
     },
     "metadata": {},
     "output_type": "display_data"
    },
    {
     "data": {
      "image/png": "[encoded data removed]",
      "text/plain": [
       "<matplotlib.figure.Figure at 0xa92b1acc>"
      ]
     },
     "metadata": {},
     "output_type": "display_data"
    }
   ],
   "source": [
    "plot_hyperparameters_effects('RandomForestClassifier(random_state=123,)',X_train,y_train,X_val,y_val,\\\n",
    "                             'max_features','min_samples_split','n_estimators',\\\n",
    "                             max_features_values,min_samples_split_values,n_estimators_values)\n",
    "                             "
   ]
  },
  {
   "cell_type": "code",
   "execution_count": 0,
   "metadata": {
    "colab": {},
    "colab_type": "code",
    "id": "ICRLgCLp_yfA"
   },
   "outputs": [],
   "source": [
    "grid = {'n_estimators':[n for n in range(1,351)],\n",
    "        'min_samples_split':[2]\n",
    "        ,'min_samples_leaf':[2]\n",
    "        ,'max_leaf_nodes':[25],\n",
    "        'max_features':[9]}"
   ]
  },
  {
   "cell_type": "code",
   "execution_count": 0,
   "metadata": {
    "colab": {
     "base_uri": "https://localhost:8080/",
     "height": 34
    },
    "colab_type": "code",
    "id": "Mt5ukbhn3Mwx",
    "outputId": "059d20a9-28c8-45bb-d2f7-9ea1907516b9"
   },
   "outputs": [
    {
     "name": "stdout",
     "output_type": "stream",
     "text": [
      "The best model is :  {'n_estimators': 114, 'min_samples_split': 2, 'min_samples_leaf': 2, 'max_leaf_nodes': 25, 'max_features': 9} It's accuracy is :  0.75\n"
     ]
    }
   ],
   "source": [
    "np.random.seed(0)\n",
    "\n",
    "from sklearn.model_selection import ParameterGrid\n",
    "\n",
    "rfc=RandomForestClassifier(random_state=123)\n",
    "\n",
    "validation_accuracies=[]\n",
    "\n",
    "# Loop through the parameter grid, set the hyperparameters, and save the scores\n",
    "for g in ParameterGrid(grid):\n",
    "    rfc.set_params(**g)  # ** is \"unpacking\" the dictionary\n",
    "    rfc.fit(X_train,y_train.values.ravel())\n",
    "    predictions=rfc.predict(X_val)\n",
    "    validation_accuracies.append(accuracy_score(y_val,predictions))\n",
    "    \n",
    "\n",
    "# Find best hyperparameters\n",
    "best_idx = np.argmax(validation_accuracies)\n",
    "print('The best model is : ',ParameterGrid(grid)[best_idx],\"It's accuracy is : \",validation_accuracies[best_idx])"
   ]
  },
  {
   "cell_type": "code",
   "execution_count": 0,
   "metadata": {
    "colab": {
     "base_uri": "https://localhost:8080/",
     "height": 34
    },
    "colab_type": "code",
    "id": "A7i7z2s0Di2l",
    "outputId": "1980ebe9-23d3-43d1-a811-2798ae6067d7"
   },
   "outputs": [
    {
     "name": "stdout",
     "output_type": "stream",
     "text": [
      "Train accuracy is 0.8766666666666667 whereas test accuracy is 0.71\n"
     ]
    }
   ],
   "source": [
    "np.random.seed(0)\n",
    "\n",
    "optimal_model = RandomForestClassifier(random_state=123,n_estimators = 114,min_samples_split = 2,min_samples_leaf = 2,max_leaf_nodes = 25,max_features = 9)\n",
    "optimal_model.fit(X_train,y_train.values.ravel())\n",
    "prophecies = optimal_model.predict(X_test)\n",
    "train_preds = optimal_model.predict(X_train)\n",
    "test_acc = accuracy_score(y_test,prophecies)\n",
    "train_acc = accuracy_score(y_train,train_preds)\n",
    "print('Train accuracy is {} whereas test accuracy is {}'.format(train_acc,test_acc))"
   ]
  },
  {
   "cell_type": "code",
   "execution_count": 0,
   "metadata": {
    "colab": {
     "base_uri": "https://localhost:8080/",
     "height": 566
    },
    "colab_type": "code",
    "id": "3vkK1enKGZfU",
    "outputId": "6ee8ab7d-032e-4639-c704-382165474160"
   },
   "outputs": [
    {
     "data": {
      "image/png": "[encoded data removed]",
      "text/plain": [
       "<Figure size 864x648 with 1 Axes>"
      ]
     },
     "metadata": {
      "tags": []
     },
     "output_type": "display_data"
    }
   ],
   "source": [
    "plot_learning_curves('RandomForestClassifier(random_state=123,n_estimators = 114,min_samples_split = 2,min_samples_leaf = 2,max_leaf_nodes = 25,max_features = 9)',X_train,y_train,X_val,y_val,20)"
   ]
  },
  {
   "cell_type": "markdown",
   "metadata": {
    "colab_type": "text",
    "id": "SpeTy-WbHPtI"
   },
   "source": [
    "From the chart above we can suspect that with more data we could farther alleviate the overfitting problem.\n",
    "To get that data,we can split the data into 80 % train and 20 % test set. Then we can use out-of-bag score to validate our model on the train set. This way, we will be using 80 % of the data instead of 60 %, while maintaing the ability to reliably measure the generalization error."
   ]
  },
  {
   "cell_type": "code",
   "execution_count": 0,
   "metadata": {
    "colab": {},
    "colab_type": "code",
    "id": "7jjgIiI7IyKB"
   },
   "outputs": [],
   "source": [
    "from sklearn.model_selection import train_test_split\n",
    "\n",
    "y = df['mark']\n",
    "del df['mark']\n",
    "X = df\n",
    "\n",
    "X_train_2, X_test_2, y_train_2, y_test_2 = train_test_split(X, y, test_size=0.2, random_state=42)"
   ]
  },
  {
   "cell_type": "code",
   "execution_count": 0,
   "metadata": {
    "colab": {
     "base_uri": "https://localhost:8080/",
     "height": 217
    },
    "colab_type": "code",
    "id": "DkceQN3_KPu1",
    "outputId": "5a2d2886-f1ee-4d6b-d21d-d2083c53a08d"
   },
   "outputs": [
    {
     "data": {
      "text/html": [
       "<div>\n",
       "<style scoped>\n",
       "    .dataframe tbody tr th:only-of-type {\n",
       "        vertical-align: middle;\n",
       "    }\n",
       "\n",
       "    .dataframe tbody tr th {\n",
       "        vertical-align: top;\n",
       "    }\n",
       "\n",
       "    .dataframe thead th {\n",
       "        text-align: right;\n",
       "    }\n",
       "</style>\n",
       "<table border=\"1\" class=\"dataframe\">\n",
       "  <thead>\n",
       "    <tr style=\"text-align: right;\">\n",
       "      <th></th>\n",
       "      <th>brewing_temp</th>\n",
       "      <th>coffee_amount</th>\n",
       "      <th>grinding_level</th>\n",
       "      <th>TDS</th>\n",
       "      <th>water_ph</th>\n",
       "      <th>plantation_height</th>\n",
       "      <th>brewing_time</th>\n",
       "      <th>natural_processing</th>\n",
       "      <th>Colombia</th>\n",
       "      <th>Kenya</th>\n",
       "      <th>Panama</th>\n",
       "      <th>Rwanda</th>\n",
       "      <th>0.0</th>\n",
       "      <th>1.0</th>\n",
       "      <th>unknown</th>\n",
       "      <th>south_america</th>\n",
       "      <th>africa</th>\n",
       "      <th>other_countries</th>\n",
       "      <th>above_avg_coffee_amount</th>\n",
       "      <th>above_avg_water_ph</th>\n",
       "      <th>above_avg_pantation_height</th>\n",
       "      <th>below_avg_brewing_time</th>\n",
       "      <th>above_avg_brewing_temp</th>\n",
       "      <th>more_coffee_than_lowest_rating</th>\n",
       "      <th>higher_ph_than_lowest_rating</th>\n",
       "      <th>greater_elevation_than_lowest_rating</th>\n",
       "      <th>shorter_brewing_time_than_lowest_rating</th>\n",
       "    </tr>\n",
       "  </thead>\n",
       "  <tbody>\n",
       "    <tr>\n",
       "      <th>249</th>\n",
       "      <td>90.6</td>\n",
       "      <td>6.9</td>\n",
       "      <td>4.0</td>\n",
       "      <td>0.10</td>\n",
       "      <td>9.03</td>\n",
       "      <td>1790.0</td>\n",
       "      <td>156.0</td>\n",
       "      <td>0</td>\n",
       "      <td>0</td>\n",
       "      <td>0</td>\n",
       "      <td>1</td>\n",
       "      <td>0</td>\n",
       "      <td>0</td>\n",
       "      <td>1</td>\n",
       "      <td>0</td>\n",
       "      <td>1</td>\n",
       "      <td>0</td>\n",
       "      <td>0</td>\n",
       "      <td>0</td>\n",
       "      <td>1</td>\n",
       "      <td>1</td>\n",
       "      <td>1</td>\n",
       "      <td>1</td>\n",
       "      <td>1</td>\n",
       "      <td>1</td>\n",
       "      <td>1</td>\n",
       "      <td>1</td>\n",
       "    </tr>\n",
       "    <tr>\n",
       "      <th>433</th>\n",
       "      <td>89.4</td>\n",
       "      <td>6.9</td>\n",
       "      <td>1.0</td>\n",
       "      <td>0.12</td>\n",
       "      <td>4.41</td>\n",
       "      <td>1240.0</td>\n",
       "      <td>114.0</td>\n",
       "      <td>0</td>\n",
       "      <td>0</td>\n",
       "      <td>1</td>\n",
       "      <td>0</td>\n",
       "      <td>0</td>\n",
       "      <td>0</td>\n",
       "      <td>1</td>\n",
       "      <td>0</td>\n",
       "      <td>0</td>\n",
       "      <td>1</td>\n",
       "      <td>0</td>\n",
       "      <td>0</td>\n",
       "      <td>0</td>\n",
       "      <td>0</td>\n",
       "      <td>1</td>\n",
       "      <td>1</td>\n",
       "      <td>1</td>\n",
       "      <td>0</td>\n",
       "      <td>0</td>\n",
       "      <td>1</td>\n",
       "    </tr>\n",
       "    <tr>\n",
       "      <th>19</th>\n",
       "      <td>92.5</td>\n",
       "      <td>8.1</td>\n",
       "      <td>4.0</td>\n",
       "      <td>0.08</td>\n",
       "      <td>5.96</td>\n",
       "      <td>1520.0</td>\n",
       "      <td>128.0</td>\n",
       "      <td>0</td>\n",
       "      <td>0</td>\n",
       "      <td>1</td>\n",
       "      <td>0</td>\n",
       "      <td>0</td>\n",
       "      <td>1</td>\n",
       "      <td>0</td>\n",
       "      <td>0</td>\n",
       "      <td>0</td>\n",
       "      <td>1</td>\n",
       "      <td>0</td>\n",
       "      <td>1</td>\n",
       "      <td>0</td>\n",
       "      <td>1</td>\n",
       "      <td>1</td>\n",
       "      <td>0</td>\n",
       "      <td>1</td>\n",
       "      <td>0</td>\n",
       "      <td>1</td>\n",
       "      <td>1</td>\n",
       "    </tr>\n",
       "    <tr>\n",
       "      <th>322</th>\n",
       "      <td>91.7</td>\n",
       "      <td>6.9</td>\n",
       "      <td>2.0</td>\n",
       "      <td>0.12</td>\n",
       "      <td>4.42</td>\n",
       "      <td>1180.0</td>\n",
       "      <td>174.0</td>\n",
       "      <td>1</td>\n",
       "      <td>0</td>\n",
       "      <td>1</td>\n",
       "      <td>0</td>\n",
       "      <td>0</td>\n",
       "      <td>1</td>\n",
       "      <td>0</td>\n",
       "      <td>0</td>\n",
       "      <td>0</td>\n",
       "      <td>1</td>\n",
       "      <td>0</td>\n",
       "      <td>0</td>\n",
       "      <td>0</td>\n",
       "      <td>0</td>\n",
       "      <td>0</td>\n",
       "      <td>0</td>\n",
       "      <td>1</td>\n",
       "      <td>0</td>\n",
       "      <td>0</td>\n",
       "      <td>1</td>\n",
       "    </tr>\n",
       "    <tr>\n",
       "      <th>332</th>\n",
       "      <td>90.9</td>\n",
       "      <td>7.0</td>\n",
       "      <td>3.0</td>\n",
       "      <td>0.12</td>\n",
       "      <td>7.40</td>\n",
       "      <td>1130.0</td>\n",
       "      <td>174.0</td>\n",
       "      <td>0</td>\n",
       "      <td>0</td>\n",
       "      <td>0</td>\n",
       "      <td>1</td>\n",
       "      <td>0</td>\n",
       "      <td>1</td>\n",
       "      <td>0</td>\n",
       "      <td>0</td>\n",
       "      <td>1</td>\n",
       "      <td>0</td>\n",
       "      <td>0</td>\n",
       "      <td>1</td>\n",
       "      <td>1</td>\n",
       "      <td>0</td>\n",
       "      <td>0</td>\n",
       "      <td>1</td>\n",
       "      <td>1</td>\n",
       "      <td>1</td>\n",
       "      <td>0</td>\n",
       "      <td>1</td>\n",
       "    </tr>\n",
       "  </tbody>\n",
       "</table>\n",
       "</div>"
      ],
      "text/plain": [
       "     brewing_temp  ...  shorter_brewing_time_than_lowest_rating\n",
       "249          90.6  ...                                        1\n",
       "433          89.4  ...                                        1\n",
       "19           92.5  ...                                        1\n",
       "322          91.7  ...                                        1\n",
       "332          90.9  ...                                        1\n",
       "\n",
       "[5 rows x 27 columns]"
      ]
     },
     "execution_count": 29,
     "metadata": {
      "tags": []
     },
     "output_type": "execute_result"
    }
   ],
   "source": [
    "X_train_2.head()"
   ]
  },
  {
   "cell_type": "code",
   "execution_count": 0,
   "metadata": {
    "colab": {},
    "colab_type": "code",
    "id": "ECB6Fw6TGq_z"
   },
   "outputs": [],
   "source": [
    "param_to_test = {'n_estimators':[83],\n",
    "        'min_samples_split':[2]\n",
    "        ,'min_samples_leaf':[2]\n",
    "        ,'max_leaf_nodes':[29],\n",
    "        'max_features':[f for f in range(1,28)]}"
   ]
  },
  {
   "cell_type": "code",
   "execution_count": 0,
   "metadata": {
    "colab": {
     "base_uri": "https://localhost:8080/",
     "height": 34
    },
    "colab_type": "code",
    "id": "FpJ7TCTXFX4F",
    "outputId": "05ac866d-52ef-429d-b617-348d7196779b"
   },
   "outputs": [
    {
     "name": "stdout",
     "output_type": "stream",
     "text": [
      "The best model is :  {'n_estimators': 83, 'min_samples_split': 2, 'min_samples_leaf': 2, 'max_leaf_nodes': 29, 'max_features': 16} It's out-of-bag accuracy is :  0.74\n"
     ]
    }
   ],
   "source": [
    "np.random.seed(0)\n",
    "\n",
    "from sklearn.model_selection import ParameterGrid\n",
    "\n",
    "\n",
    "# Finding the parameters of a model with more data\n",
    "\n",
    "forest=RandomForestClassifier(random_state=123,oob_score=True)\n",
    "\n",
    "oob_scores=[]\n",
    "\n",
    "# Loop through the parameter grid, set the hyperparameters, and save the scores\n",
    "for g in ParameterGrid(param_to_test):\n",
    "    forest.set_params(**g)  # ** is \"unpacking\" the dictionary\n",
    "    forest.fit(X_train_2,y_train_2.values.ravel())\n",
    "    oob_scores.append(forest.oob_score_)\n",
    "    \n",
    "\n",
    "# Find best hyperparameters\n",
    "best_idx = np.argmax(oob_scores)\n",
    "print('The best model is : ',ParameterGrid(param_to_test)[best_idx],\"It's out-of-bag accuracy is : \",oob_scores[best_idx])"
   ]
  },
  {
   "cell_type": "code",
   "execution_count": 0,
   "metadata": {
    "colab": {
     "base_uri": "https://localhost:8080/",
     "height": 34
    },
    "colab_type": "code",
    "id": "VWTANI9YXFxD",
    "outputId": "425a369b-6d2f-44df-c461-32a432737d70"
   },
   "outputs": [
    {
     "name": "stdout",
     "output_type": "stream",
     "text": [
      "Train accuracy is 0.86 wheras test accuracy is 0.74\n"
     ]
    }
   ],
   "source": [
    "np.random.seed(0)\n",
    "\n",
    "more_data = RandomForestClassifier(random_state=123,n_estimators = 83, min_samples_split = 2, min_samples_leaf = 2, max_leaf_nodes = 29, max_features = 16)\n",
    "more_data.fit(X_train_2,y_train_2.values.ravel())\n",
    "forecast = more_data.predict(X_test_2)\n",
    "paraforecast = more_data.predict(X_train_2)\n",
    "acc = accuracy_score(y_test_2,forecast)\n",
    "paraacc = accuracy_score(y_train_2,paraforecast)\n",
    "print('Train accuracy is {} wheras test accuracy is {}'.format(paraacc,acc))"
   ]
  },
  {
   "cell_type": "code",
   "execution_count": 0,
   "metadata": {
    "colab": {
     "base_uri": "https://localhost:8080/",
     "height": 711
    },
    "colab_type": "code",
    "id": "2N8H5JLbg_Bl",
    "outputId": "feafc196-f12a-4b6c-d1b2-c4652b09c1fc"
   },
   "outputs": [
    {
     "data": {
      "image/png": "[encoded data removed]",
      "text/plain": [
       "<Figure size 720x576 with 1 Axes>"
      ]
     },
     "metadata": {
      "tags": []
     },
     "output_type": "display_data"
    }
   ],
   "source": [
    "feature_importances = pd.DataFrame(more_data.feature_importances_,\n",
    "                                   index = X_train_2.columns,\n",
    "                                    columns=['importance']).sort_values('importance',ascending=False)\n",
    "\n",
    "plt.figure(figsize=(10,8))\n",
    "feature_importances['importance'].head(15).plot(kind='bar')\n",
    "plt.ylabel('importance')\n",
    "plt.xlabel('feature')\n",
    "plt.title('Importances of different variables affecting coffee brewing process')\n",
    "plt.show()"
   ]
  },
  {
   "cell_type": "markdown",
   "metadata": {
    "colab_type": "text",
    "id": "gTqagF3ZE8-8"
   },
   "source": [
    "# Summing-up"
   ]
  },
  {
   "cell_type": "markdown",
   "metadata": {
    "colab_type": "text",
    "id": "QMd55a3YZqHr"
   },
   "source": [
    "We have identified the most important variables affecting the coffee brewing process as a brewing temperture, coffee amount, brewing time and grinding level.\n",
    "The best coffee has above average coffee amount, above average water ph and below average brewing time.\n",
    "Our model classified the ratings of coffee from 1 to 5 with 74 % accuracy.\n",
    "This 74 % is a fair estimate of the model's ability to generalize, since we didn't commit the comon malpractice of fitting the hyperparameters on the test set.\n",
    "To put this result into perspective if we would always predict the most common rating 3, we would have achieved only 29.8 % accuracy. Judging from the learning curves, we could further improve model's ability to generalize by collecting more training examples.\n",
    "\n"
   ]
  }
 ],
 "metadata": {
  "colab": {
   "collapsed_sections": [],
   "name": "coffee_brewing_process.ipynb",
   "provenance": [],
   "version": "0.3.2"
  },
  "kernelspec": {
   "display_name": "Python 3",
   "language": "python",
   "name": "python3"
  },
  "language_info": {
   "codemirror_mode": {
    "name": "ipython",
    "version": 3
   },
   "file_extension": ".py",
   "mimetype": "text/x-python",
   "name": "python",
   "nbconvert_exporter": "python",
   "pygments_lexer": "ipython3",
   "version": "3.6.7"
  }
 },
 "nbformat": 4,
 "nbformat_minor": 1
}
